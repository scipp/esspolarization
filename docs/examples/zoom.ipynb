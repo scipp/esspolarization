{
 "cells": [
  {
   "cell_type": "code",
   "execution_count": null,
   "metadata": {},
   "outputs": [],
   "source": [
    "import scipp as sc\n",
    "import scippnexus as snx\n",
    "\n",
    "\n",
    "def load_zoom(id: int) -> sc.DataGroup:\n",
    "    data_folder = '/home/simon/instruments/polarization/3He_GC'\n",
    "    prefix = 'ZOOM000'\n",
    "    filename = f'{data_folder}/{prefix}{id}.nxs'\n",
    "    with snx.File(filename) as f:\n",
    "        return f['raw_data_1'][()]\n",
    "\n",
    "\n",
    "dg = load_zoom(22707)\n",
    "dg"
   ]
  },
  {
   "cell_type": "code",
   "execution_count": null,
   "metadata": {},
   "outputs": [],
   "source": [
    "dg['selog']['Spin_flipper']['value_log']['value'].plot()"
   ]
  },
  {
   "cell_type": "code",
   "execution_count": null,
   "metadata": {},
   "outputs": [],
   "source": [
    "dg['detector_1'].fold('spectrum_index', sizes={'tube': 192, 'pixel': -1})[\n",
    "    'period_index', 1\n",
    "].sum('time_of_flight').plot(norm='log')"
   ]
  },
  {
   "cell_type": "code",
   "execution_count": null,
   "metadata": {},
   "outputs": [],
   "source": [
    "dg['instrument']['detector_1']"
   ]
  },
  {
   "cell_type": "code",
   "execution_count": null,
   "metadata": {},
   "outputs": [],
   "source": [
    "dg['period_index', 2]"
   ]
  },
  {
   "cell_type": "code",
   "execution_count": null,
   "metadata": {},
   "outputs": [],
   "source": [
    "load_zoom(22708)"
   ]
  }
 ],
 "metadata": {
  "kernelspec": {
   "display_name": "Python 3",
   "language": "python",
   "name": "python3"
  },
  "language_info": {
   "codemirror_mode": {
    "name": "ipython",
    "version": 3
   },
   "file_extension": ".py",
   "mimetype": "text/x-python",
   "name": "python",
   "nbconvert_exporter": "python",
   "pygments_lexer": "ipython3",
   "version": "3.10.12"
  }
 },
 "nbformat": 4,
 "nbformat_minor": 2
}
