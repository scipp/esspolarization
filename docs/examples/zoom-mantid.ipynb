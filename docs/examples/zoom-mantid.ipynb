{
 "cells": [
  {
   "cell_type": "code",
   "execution_count": null,
   "metadata": {},
   "outputs": [],
   "source": [
    "import scipp as sc\n",
    "import scippnexus as snx\n",
    "import scippneutron as scn\n",
    "\n",
    "\n",
    "def load_zoom(id: int) -> sc.DataGroup:\n",
    "    data_folder = '/home/simon/instruments/polarization/3He_GC'\n",
    "    prefix = 'ZOOM000'\n",
    "    filename = f'{data_folder}/{prefix}{id}.nxs'\n",
    "    return scn.load_with_mantid(filename)\n",
    "\n",
    "\n",
    "dg = load_zoom(22707)\n",
    "dg"
   ]
  },
  {
   "cell_type": "code",
   "execution_count": null,
   "metadata": {},
   "outputs": [],
   "source": [
    "scn.instrument_view(dg['1']['data'].hist(), pixel_size=10 * sc.units.mm)"
   ]
  },
  {
   "cell_type": "code",
   "execution_count": null,
   "metadata": {},
   "outputs": [],
   "source": [
    "dg['1']['data'].save_hdf5('zoom_period1.h5')"
   ]
  }
 ],
 "metadata": {
  "kernelspec": {
   "display_name": "Python 3 (ipykernel)",
   "language": "python",
   "name": "python3"
  },
  "language_info": {
   "codemirror_mode": {
    "name": "ipython",
    "version": 3
   },
   "file_extension": ".py",
   "mimetype": "text/x-python",
   "name": "python",
   "nbconvert_exporter": "python",
   "pygments_lexer": "ipython3",
   "version": "3.10.13"
  }
 },
 "nbformat": 4,
 "nbformat_minor": 4
}
