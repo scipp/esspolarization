{
 "cells": [
  {
   "cell_type": "markdown",
   "id": "788a4fce-63dc-4c23-8d2a-e9a05db0fdf7",
   "metadata": {},
   "source": [
    "# DREAM-diffraction methodology\n",
    "\n",
    "The general data reduction scheme presented in \"SANS Polarization Analysis Methodology\" will be adapted for the diffraction option at the DREAM instrument at the ESS. Following considerations have to be changed with respect to the general methodology:\n",
    "\n",
    "### Polarizer:<br>\n",
    "The DREAM-polarizer is a movable in-situ SEOP <sup>3</sup>He-polarizer of which the neutron polarization $P^{^3\\textup{He, p}}$ has to be pre-characterized in commissioning measurements and inserted into this workflow. Its wavelength-independent opacity $O^{\\textup{0, p}}$, empty-glass transmission $T^{\\textup{g, p}}$, pre-factor of nuclear polarization $C^{\\textup{p}}$, and its time-decay constant $T^{\\textup{1, p}}$ can be measured once in every commissioning time via Workflow 2 of \"SANS Polarization Analysis Methodology\". The resulting $P^{^3\\textup{He, p}}$ can be inserted into the workflow as constant parameter. To account for sudden fluctuations of $P^{^3\\textup{He, p}}$, which can occur due to changes in pressure or the like, the beam intensity after the polarizer has to be continuously recorded as function of time. Sudden fluctuations in intensity above a pre-defined difference in time must pop out an error message \"Critical intensity fluctuations detected in polarizer-monitor. Re-measure $P^{^3\\textup{He, p}}$!\".<br>\n",
    "Note: Workflow 1 of \"SANS Polarization Analysis Methodology\" cannot be used for this polarizer.\n",
    "\n",
    "### Analyzer:<br>\n",
    "The DREAM-Diffraction-Analyzer is a wide-angle, sealed, and ex-situ MEOP <sup>3</sup>He-cell surrounding the sample. It supports mainly thermal neutrons in the diffraction range, but will also be equipped with a SANS-window of slightly smaller thickness to support cold neutrons. It will be continuously pumped and hence obtain a very long time-decay constant $T^{1, a}$. In contrast to typical ex-situ SEOP <sup>3</sup>He-cells, which have to be exchanged after certain time-intervals, it will stay in place and be pumped ex-situ by a gas transfer line to the cell. Hence, its wavelength-independent opacity $O^{\\textup{0, p}}$, empty-glass transmission $T^{\\textup{g, p}}$, and the pre-factor of nuclear polarization $C^{\\textup{p}}$ will remain constant and only need to be re-calculated once in every commissioning time via Workflow 2 of \"SANS Polarization Analysis Methodology\" (similar to the polarizer described above). Still, its polarization $P^{^3\\textup{He}, a}(t)$ has to be characterized continuously throughout the beamtimes as a function of time (to be treated as described in \"SANS Polarization Analysis Methodology\"). \n",
    "\n",
    "______\n",
    "\n",
    "### Unpolarized data reduction\n",
    "The unpolarized data reduction that has to be performed before any application of a polarized data reduction workflow will be different for Diffraction and for SANS. To adapt it here for polarlization data reduction for diffraction in the same way as the unpolarized data reduction had to be adapted for polarized SANS, we will use a new unpolarized data reduction scheme for DREAM being in development right now.\n",
    "\n",
    "\n",
    "### Monitors:<br>\n",
    "For an optimal SANS data-reduction, three monitors would be ideal: (i) an incident beam monitor $M_{\\textup{in}}$ before the polarizer, (ii) a monitor after the polarizer $M_{\\textup{p}}$, and (iii) a monitor after the analyzer $M_{\\textup{a}}$ (alternatively on the main detector if the direct beam can be recorded). At DREAM, only two monitors will be inserted: $M_{\\textup{p}}$ and $M_{\\textup{a}}$. In general, the total beam intensity is corrected by $M_{\\textup{in}}$. Due to the time-independence of $P^{^3\\textup{He, p}}$, the beam intensity of $M_{\\textup{p}}$ can be used instead.\n",
    "\n",
    "### Sample-movements:<br>\n",
    "At DREAM, the samples cannot be moved in and out of beam with a motor and hence changes in sample position have to be done by hand. This is feasible sometimes during the workflow, but not in a regular manner (especially overnight). We will open two options for the users:\n",
    "\n",
    "(a) to use the workflow as-is with the sample in beam, and recording the direct-beam for polarization data reduction as described above, but in transmission through the sample. This will be an option for non-time-dependent, and non-(or weak-)spin-dependent scatterers, but not a good option for strong-spin-dependent scatterers like hydrogen. In this case, the correction for transmission through the sample has to be taken out of the \"unpolarized\" data reduction workflow (which is being performed before the polarizion data reduction).\n",
    "\n",
    "(b) for strong-spin-dependent scatterers, the sample will have too much impact on the data correction procedure and has to be moved out of beam for the direct beam measurements for polarization correction. The user has to do this by hand frequently throughout the beamtime. No changes to above polarization correction are needed.\n"
   ]
  }
 ],
 "metadata": {
  "kernelspec": {
   "display_name": "Python 3 (ipykernel)",
   "language": "python",
   "name": "python3"
  },
  "language_info": {
   "codemirror_mode": {
    "name": "ipython",
    "version": 3
   },
   "file_extension": ".py",
   "mimetype": "text/x-python",
   "name": "python",
   "nbconvert_exporter": "python",
   "pygments_lexer": "ipython3",
   "version": "3.11.6"
  }
 },
 "nbformat": 4,
 "nbformat_minor": 5
}
