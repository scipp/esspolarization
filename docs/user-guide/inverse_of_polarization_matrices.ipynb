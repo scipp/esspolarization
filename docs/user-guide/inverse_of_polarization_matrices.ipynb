{
 "cells": [
  {
   "cell_type": "code",
   "execution_count": null,
   "id": "14eadb27-fca5-4e22-a59c-7b30e0621942",
   "metadata": {},
   "outputs": [],
   "source": [
    "import sympy as sp\n",
    "import numpy as np"
   ]
  },
  {
   "cell_type": "code",
   "execution_count": null,
   "id": "eda00d90-997a-499d-a9c3-0dea19a561f4",
   "metadata": {},
   "outputs": [],
   "source": [
    "Tp = sp.symbols('T^p_+, T^p_-', positive=True)\n",
    "Ta = sp.symbols('T^a_+, T^a_-', positive=True)\n",
    "I = sp.symbols('Ipp, Ipm, Imp, Imm', positive=True)\n"
   ]
  },
  {
   "cell_type": "markdown",
   "id": "1d1284a5-f073-4632-999b-7ae6c342fcd3",
   "metadata": {},
   "source": [
    "# Polarization matrices for He3 cells and supermirror\n",
    "\n",
    "From https://www.epj-conferences.org/articles/epjconf/abs/2023/12/epjconf_ecns2023_03004/epjconf_ecns2023_03004.html"
   ]
  },
  {
   "cell_type": "code",
   "execution_count": null,
   "id": "d6cda4a6",
   "metadata": {},
   "outputs": [],
   "source": [
    "I = sp.ImmutableDenseMatrix([\n",
    "    [I[0]], [I[1]], [I[2]], [I[3]]]\n",
    ")\n",
    "I"
   ]
  },
  {
   "cell_type": "code",
   "execution_count": null,
   "id": "6780e116-44f1-4108-8184-035cf994f399",
   "metadata": {},
   "outputs": [],
   "source": [
    "TP = sp.ImmutableDenseMatrix([\n",
    "    [Tp[0], 0, Tp[1], 0],\n",
    "    [0, Tp[0], 0, Tp[1]],\n",
    "    [Tp[1], 0, Tp[0], 0],\n",
    "    [0, Tp[1], 0, Tp[0]],\n",
    "])\n",
    "TP"
   ]
  },
  {
   "cell_type": "code",
   "execution_count": null,
   "id": "8d22a3bb-0172-4018-9ba7-4b9337408811",
   "metadata": {},
   "outputs": [],
   "source": [
    "TP.inv()"
   ]
  },
  {
   "cell_type": "code",
   "execution_count": null,
   "id": "9d2a1962-7ae2-4756-ab12-5ac53a602705",
   "metadata": {},
   "outputs": [],
   "source": [
    "TA = sp.ImmutableDenseMatrix([\n",
    "    [Ta[0], Ta[1], 0, 0],\n",
    "    [Ta[1], Ta[0], 0, 0],\n",
    "    [0, 0, Ta[0], Ta[1]],\n",
    "    [0, 0, Ta[1], Ta[0]],\n",
    "])\n",
    "TA"
   ]
  },
  {
   "cell_type": "code",
   "execution_count": null,
   "id": "5f85c7c9-e31e-420d-bf18-b2c9b7c0879c",
   "metadata": {},
   "outputs": [],
   "source": [
    "TA.inv()"
   ]
  },
  {
   "cell_type": "markdown",
   "id": "f4fabb5f-da34-4809-98be-3e7ba3477357",
   "metadata": {},
   "source": [
    "## Helium cell case"
   ]
  },
  {
   "cell_type": "code",
   "execution_count": null,
   "id": "98c52c89-fc28-4f93-be98-44a11e0865d5",
   "metadata": {},
   "outputs": [],
   "source": [
    "(TA @ TP).inv().factor()"
   ]
  },
  {
   "cell_type": "markdown",
   "id": "c8714992-3341-4d76-af9b-35deb1686694",
   "metadata": {},
   "source": [
    "Same denominator in all entries, maybe easier to evaluate this way:"
   ]
  },
  {
   "cell_type": "code",
   "execution_count": null,
   "id": "5243e7a6-bb21-4ea1-97c4-0f148cd01000",
   "metadata": {},
   "outputs": [],
   "source": [
    "d = (Ta[0]**2 - Ta[1]**2) * (Tp[0]**2 - Tp[1]**2)\n",
    "d"
   ]
  },
  {
   "cell_type": "code",
   "execution_count": null,
   "id": "86fa023e-e630-4907-97e3-498c585e8f9d",
   "metadata": {},
   "outputs": [],
   "source": [
    "(d * (TA @ TP).inv()).simplify()"
   ]
  },
  {
   "cell_type": "markdown",
   "id": "2b0be95a-0f4d-4636-a4a0-421e2548876f",
   "metadata": {},
   "source": [
    "## Supermirror case"
   ]
  },
  {
   "cell_type": "code",
   "execution_count": null,
   "id": "267044c0-8fca-4aca-8023-d572fd2a0c44",
   "metadata": {},
   "outputs": [],
   "source": [
    "f1, f2 = sp.symbols('f_1:3')\n",
    "F1_parallel = sp.ImmutableDenseMatrix([\n",
    "    [1, 0, 0, 0],\n",
    "    [0, 1, 0, 0],\n",
    "    [1-f1, 0, f1, 0],\n",
    "    [0, 1-f1, 0, f1],\n",
    "])\n",
    "F1_parallel"
   ]
  },
  {
   "cell_type": "code",
   "execution_count": null,
   "id": "1c1396a0-fae0-468b-9c97-10ba64fb2b4f",
   "metadata": {},
   "outputs": [],
   "source": [
    "F1_parallel.inv()"
   ]
  },
  {
   "cell_type": "code",
   "execution_count": null,
   "id": "52a4390a",
   "metadata": {},
   "outputs": [],
   "source": [
    "(F1_parallel.inv()@F1_parallel).simplify()"
   ]
  },
  {
   "cell_type": "code",
   "execution_count": null,
   "id": "d06f20a5",
   "metadata": {},
   "outputs": [],
   "source": [
    "F2_parallel = sp.ImmutableDenseMatrix([\n",
    "    [1, 0, 0, 0],\n",
    "    [1-f2, f2, 0, 0],\n",
    "    [0, 0, 1, 0],\n",
    "    [0, 0, 1-f2, f2],\n",
    "])\n",
    "F2_parallel"
   ]
  },
  {
   "cell_type": "code",
   "execution_count": null,
   "id": "abe1231b",
   "metadata": {},
   "outputs": [],
   "source": [
    "F1_antiparallel = sp.ImmutableDenseMatrix([\n",
    "    [f1, 0, 1-f1, 0],\n",
    "    [0, f1, 0, 1-f1],\n",
    "    [0, 0, 1, 0],\n",
    "    [0, 0, 0, 1],\n",
    "])\n",
    "F1_antiparallel"
   ]
  },
  {
   "cell_type": "code",
   "execution_count": null,
   "id": "6a91128d-4da4-4fee-9cda-ceef4fc65dc6",
   "metadata": {},
   "outputs": [],
   "source": [
    "F2_antiparallel = sp.ImmutableDenseMatrix([\n",
    "    [1, 1-f2, 0, 0],\n",
    "    [0, f2, 0, 0],\n",
    "    [0, 0, 1, 1-f2],\n",
    "    [0, 0, 0, f2],\n",
    "])\n",
    "F2_antiparallel"
   ]
  },
  {
   "cell_type": "code",
   "execution_count": null,
   "id": "6b39bb9a-eebd-4177-8e22-8b4ffb603792",
   "metadata": {},
   "outputs": [],
   "source": [
    "(F1_antiparallel@F1_antiparallel.inv()).simplify()"
   ]
  },
  {
   "cell_type": "code",
   "execution_count": null,
   "id": "02053837",
   "metadata": {},
   "outputs": [],
   "source": [
    "(F2_antiparallel@F2_antiparallel.inv()).simplify()"
   ]
  },
  {
   "cell_type": "code",
   "execution_count": null,
   "id": "f6e8bd1e",
   "metadata": {},
   "outputs": [],
   "source": [
    "(TP.inv()@F1_parallel.inv()).simplify()"
   ]
  },
  {
   "cell_type": "code",
   "execution_count": null,
   "id": "fa98ea5e",
   "metadata": {},
   "outputs": [],
   "source": [
    "(TP.inv()@F1_antiparallel.inv()).simplify()"
   ]
  },
  {
   "cell_type": "code",
   "execution_count": null,
   "id": "cc24aa41",
   "metadata": {},
   "outputs": [],
   "source": [
    "(F2_parallel.inv()@TA.inv()).simplify()\n"
   ]
  },
  {
   "cell_type": "code",
   "execution_count": null,
   "id": "5308f9fe",
   "metadata": {},
   "outputs": [],
   "source": [
    "(F2_antiparallel.inv()@TA.inv()).simplify()"
   ]
  },
  {
   "cell_type": "code",
   "execution_count": null,
   "id": "76c6eac3",
   "metadata": {},
   "outputs": [],
   "source": [
    "(((F2_parallel.inv()@TA.inv())@I)*(Ta[0]**2 - Ta[1]**2)).simplify()"
   ]
  },
  {
   "cell_type": "code",
   "execution_count": null,
   "id": "03331c5a",
   "metadata": {},
   "outputs": [],
   "source": [
    "(((TP.inv()@F1_parallel.inv())@I)*(Tp[0]**2 - Tp[1]**2)).simplify()"
   ]
  },
  {
   "cell_type": "code",
   "execution_count": null,
   "id": "aa92aba8",
   "metadata": {},
   "outputs": [],
   "source": [
    "(TP.inv() @ F1_parallel.inv() @ F2_parallel.inv() @ TA.inv()).simplify()"
   ]
  },
  {
   "cell_type": "code",
   "execution_count": null,
   "id": "696520c3",
   "metadata": {},
   "outputs": [],
   "source": [
    "(TP.inv() @ F1_antiparallel.inv() @ F2_antiparallel.inv() @ TA.inv()).simplify()"
   ]
  },
  {
   "cell_type": "markdown",
   "id": "18833019",
   "metadata": {},
   "source": [
    "Now we will test if the flipper matrices together with the polarizer/analyzer matrices yield physically useful results for the examples:<br> \n",
    "(i) collinear magnetic moments & no chiral terms, i.e., P=F=1 & S+-=S-+ <br>\n",
    "(ii) chiral magnetic moments with S++=S--=0 & S+- \\neq S-+"
   ]
  },
  {
   "cell_type": "code",
   "execution_count": null,
   "id": "0f218252",
   "metadata": {},
   "outputs": [],
   "source": [
    "S_test_i = sp.symbols('Spp, Spm, Smp, Smm', positive=True)\n",
    "S_test_i = sp.ImmutableDenseMatrix([\n",
    "    [0], [S_test_i[1]], [S_test_i[2]], [0]]\n",
    ")\n",
    "S_test_i"
   ]
  },
  {
   "cell_type": "code",
   "execution_count": null,
   "id": "94b13485",
   "metadata": {},
   "outputs": [],
   "source": [
    "((TA @ F2_parallel @ F1_parallel @ TP)@S_test_i).simplify()"
   ]
  },
  {
   "cell_type": "code",
   "execution_count": null,
   "id": "3c7805b4",
   "metadata": {},
   "outputs": [],
   "source": [
    "S_test_ii = sp.symbols('Spp, Spm, Smp, Smm', positive=True)\n",
    "S_test_ii = sp.ImmutableDenseMatrix([\n",
    "    [S_test_ii[0]], [S_test_ii[1]], [S_test_ii[1]], [S_test_ii[3]]]\n",
    ")\n",
    "S_test_ii"
   ]
  },
  {
   "cell_type": "code",
   "execution_count": null,
   "id": "5df7393b",
   "metadata": {},
   "outputs": [],
   "source": [
    "((TA @ F2_antiparallel)@S_test_ii).simplify()"
   ]
  },
  {
   "cell_type": "markdown",
   "id": "2ffcb6ef",
   "metadata": {},
   "source": [
    "Now trying the same with the to 2-dim converted matrices"
   ]
  },
  {
   "cell_type": "code",
   "execution_count": null,
   "id": "1b218e9e",
   "metadata": {},
   "outputs": [],
   "source": [
    "S_test_iii = ([\n",
    "    [0], [4], [5], [0]]\n",
    ")\n",
    "f1_test = 0.9\n",
    "f2_test = 0.9\n",
    "F1_parallel_test = np.array([\n",
    "    [1, 0, 0, 0],\n",
    "    [0, 1, 0, 0],\n",
    "    [1-0.9, 0, 0.9, 0],\n",
    "    [0, 1-0.9, 0, 0.9],\n",
    "])\n",
    "F2_parallel_test = np.array([\n",
    "    [1, 0, 0, 0],\n",
    "    [1-0.9, 0.9, 0, 0],\n",
    "    [0, 0, 1, 0],\n",
    "    [0, 0, 1-0.9, 0.9],\n",
    "])\n",
    "Tp_test = np.array([0.8, 0.2])\n",
    "TP_test = np.array([\n",
    "    [Tp_test[0], 0, Tp_test[1], 0],\n",
    "    [0, Tp_test[0], 0, Tp_test[1]],\n",
    "    [Tp_test[1], 0, Tp_test[0], 0],\n",
    "    [0, Tp_test[1], 0, Tp_test[0]],\n",
    "])\n",
    "Ta_test = np.array([0.8, 0.2])\n",
    "TA_test = np.array([\n",
    "    [Ta_test[0], Ta_test[1], 0, 0],\n",
    "    [Ta_test[1], Ta_test[0], 0, 0],\n",
    "    [0, 0, Ta_test[0], Ta_test[1]],\n",
    "    [0, 0, Ta_test[1], Ta_test[0]],\n",
    "])\n",
    "TA_test"
   ]
  },
  {
   "cell_type": "code",
   "execution_count": null,
   "id": "c70fed56",
   "metadata": {},
   "outputs": [],
   "source": [
    "(TP_test@TA_test)@S_test_iii"
   ]
  },
  {
   "cell_type": "code",
   "execution_count": null,
   "id": "7606e236",
   "metadata": {},
   "outputs": [],
   "source": [
    "    ground_truth = np.array([0, 4, 5, 0])\n",
    "    analyzer = np.array([[0.8, 0.2], [0.2, 0.8]])\n",
    "    polarizer = np.array([[0.8, 0.2], [0.2, 0.8]])\n",
    "    identity = np.array([[1.0, 0.0], [0.0, 1.0]])\n",
    "    intensity = (\n",
    "        np.kron(identity, analyzer) @ np.kron(polarizer, identity) @ ground_truth\n",
    "    )\n",
    "intensity\n",
    "\n"
   ]
  },
  {
   "cell_type": "markdown",
   "id": "4513bbbf-a432-43a7-8527-2ee1ecc5f321",
   "metadata": {},
   "source": [
    "## Latex formatting\n",
    "(For convenience)"
   ]
  },
  {
   "cell_type": "code",
   "execution_count": null,
   "id": "c32ec793-8ac0-4ad7-aa20-ef7ae853b6dc",
   "metadata": {},
   "outputs": [],
   "source": [
    "# Latex formatted for copying to other docs\n",
    "for s in (\n",
    "    '\\hat{T}_P^{-1} = ' + sp.latex(TP.inv().simplify()),\n",
    "    '\\hat{T}_A^{-1} = ' + sp.latex(TA.inv().simplify()),\n",
    "    '\\hat{F}_1^{-1} = ' + sp.latex(F1_parallel.inv().simplify()),\n",
    "    '\\hat{F}_2^{-1} = ' + sp.latex(F2_parallel.inv().simplify()),\n",
    "):\n",
    "    print(s, end='\\n\\n')"
   ]
  }
 ],
 "metadata": {
  "kernelspec": {
   "display_name": "Python 3 (ipykernel)",
   "language": "python",
   "name": "python3"
  },
  "language_info": {
   "codemirror_mode": {
    "name": "ipython",
    "version": 3
   },
   "file_extension": ".py",
   "mimetype": "text/x-python",
   "name": "python",
   "nbconvert_exporter": "python",
   "pygments_lexer": "ipython3",
   "version": "3.11.6"
  }
 },
 "nbformat": 4,
 "nbformat_minor": 5
}
