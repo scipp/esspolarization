{
 "cells": [
  {
   "cell_type": "markdown",
   "id": "ba4d302c",
   "metadata": {},
   "source": [
    "# Zoom Polarization Analysis\n",
    "\n",
    "## Introduction"
   ]
  },
  {
   "cell_type": "code",
   "execution_count": null,
   "id": "319162e9",
   "metadata": {},
   "outputs": [],
   "source": [
    "import scipp as sc\n",
    "from ess import sans\n",
    "from ess import polarization as pol\n",
    "from ess import isissans as isis\n",
    "from ess.sans.types import *"
   ]
  },
  {
   "cell_type": "code",
   "execution_count": null,
   "id": "a39c634b",
   "metadata": {},
   "outputs": [],
   "source": [
    "sans_workflow = isis.zoom.ZoomWorkflow()\n",
    "sans_workflow.set_param_series(PixelMaskFilename, [])"
   ]
  },
  {
   "cell_type": "code",
   "execution_count": null,
   "id": "9ed3bd06",
   "metadata": {},
   "outputs": [],
   "source": [
    "from pathlib import Path\n",
    "\n",
    "base = Path(\n",
    "    '~/instruments/polarization/Polarized_data_ZOOM/full_polarized_TOF-SANS_example_data_on_glassy_carbon'\n",
    ")\n",
    "data_folder = base / 'Long_3He_run'\n",
    "data_folder = base / 'GC/3He_GC'\n",
    "# Runs with analyzer at 4 different times\n",
    "cell_runs = [data_folder / f'ZOOM00022{run}.nxs' for run in [710, 712, 714, 716]]\n",
    "empty_run = data_folder / 'ZOOM00034787.nxs'\n",
    "cell_runs\n",
    "depolarized_run = data_folder / 'ZOOM00022718.nxs'"
   ]
  },
  {
   "cell_type": "code",
   "execution_count": null,
   "id": "15bb25ff",
   "metadata": {},
   "outputs": [],
   "source": [
    "import mantid.api as _mantid_api\n",
    "from mantid import simpleapi as _mantid_simpleapi\n",
    "from typing import Optional\n",
    "from ess.isissans.mantidio import Period, DataWorkspace\n",
    "\n",
    "\n",
    "sample_run_type = TransmissionRun[SampleRun]\n",
    "\n",
    "\n",
    "def load_histogrammed_run(\n",
    "    filename: Filename[sample_run_type], period: Optional[Period]\n",
    ") -> DataWorkspace[sample_run_type]:\n",
    "    \"\"\"Load a non-event-data ISIS file\"\"\"\n",
    "    loaded = _mantid_simpleapi.Load(Filename=str(filename), StoreInADS=False)\n",
    "    if isinstance(loaded, _mantid_api.Workspace):\n",
    "        # A single workspace\n",
    "        data_ws = loaded\n",
    "        if isinstance(data_ws, _mantid_api.WorkspaceGroup):\n",
    "            if period is None:\n",
    "                raise ValueError(\n",
    "                    f'Needs {Period} to be set to know what '\n",
    "                    'section of the event data to load'\n",
    "                )\n",
    "            data_ws = data_ws.getItem(period)\n",
    "    else:\n",
    "        # Separate data and monitor workspaces\n",
    "        data_ws = loaded.OutputWorkspace\n",
    "        if isinstance(data_ws, _mantid_api.WorkspaceGroup):\n",
    "            if period is None:\n",
    "                raise ValueError(\n",
    "                    f'Needs {Period} to be set to know what '\n",
    "                    'section of the event data to load'\n",
    "                )\n",
    "            data_ws = data_ws.getItem(period)\n",
    "            data_ws.setMonitorWorkspace(loaded.MonitorWorkspace.getItem(period))\n",
    "        else:\n",
    "            data_ws.setMonitorWorkspace(loaded.MonitorWorkspace)\n",
    "    return DataWorkspace[sample_run_type](data_ws)\n",
    "\n",
    "\n",
    "def get_incident(\n",
    "    dg: isis.data.LoadedFileContents[sample_run_type],\n",
    ") -> RawMonitor[sample_run_type, Incident]:\n",
    "    \"\"\"Extract indcident monitor from ZOOM direct-beam run\"\"\"\n",
    "    return RawMonitor[sample_run_type, Incident](dg['data']['spectrum', 2].copy())\n",
    "\n",
    "\n",
    "def get_transmission(\n",
    "    dg: isis.data.LoadedFileContents[sample_run_type],\n",
    ") -> RawMonitor[sample_run_type, Transmission]:\n",
    "    \"\"\"Extract transmission monitor from ZOOM direct-beam run\"\"\"\n",
    "    monitor = dg['data']['spectrum', 4].copy()\n",
    "    monitor.coords['datetime'] = get_time(dg)\n",
    "    return RawMonitor[sample_run_type, Transmission](monitor)\n",
    "\n",
    "\n",
    "from typing import NewType\n",
    "\n",
    "\n",
    "RunTime = NewType('RunTime', sc.Variable)\n",
    "\n",
    "\n",
    "def get_time(dg: isis.data.LoadedFileContents[sample_run_type]) -> RunTime:\n",
    "    start = sc.datetime(dg['run_start'].value)\n",
    "    end = sc.datetime(dg['run_end'].value)\n",
    "    delta = end - start\n",
    "    return RunTime(start + delta // 2)"
   ]
  },
  {
   "cell_type": "code",
   "execution_count": null,
   "id": "d2d20cf2",
   "metadata": {},
   "outputs": [],
   "source": [
    "sans_workflow[Filename[SampleRun]] = str(cell_runs[0])\n",
    "sans_workflow[Filename[TransmissionRun[SampleRun]]] = str(cell_runs[0])\n",
    "sans_workflow[Filename[EmptyBeamRun]] = str(empty_run)\n",
    "sans_workflow[NeXusMonitorName[Incident]] = 'monitor3'\n",
    "sans_workflow[NeXusMonitorName[Transmission]] = 'monitor5'\n",
    "sans_workflow.insert(load_histogrammed_run)\n",
    "sans_workflow.insert(get_incident)\n",
    "sans_workflow.insert(get_transmission)\n",
    "sans_workflow.insert(get_time)\n",
    "sans_workflow[WavelengthBins] = sc.geomspace(\n",
    "    'wavelength', start=1.75, stop=16.5, num=141, unit='angstrom'\n",
    ")\n",
    "sans_workflow[UncertaintyBroadcastMode] = UncertaintyBroadcastMode.upper_bound\n",
    "sans_workflow[isis.mantidio.Period] = 0\n",
    "dg = sans_workflow.compute(isis.mantidio.LoadedFileContents[TransmissionRun[SampleRun]])\n",
    "dg['data'].plot()"
   ]
  },
  {
   "cell_type": "code",
   "execution_count": null,
   "id": "cf067de3",
   "metadata": {},
   "outputs": [],
   "source": [
    "sans_workflow.compute(RunTime)"
   ]
  },
  {
   "cell_type": "code",
   "execution_count": null,
   "id": "fd8069b5",
   "metadata": {},
   "outputs": [],
   "source": [
    "sans_workflow.visualize(TransmissionFraction[SampleRun], graph_attr={'rankdir': 'LR'})\n",
    "transmission_fraction = sans_workflow.compute(TransmissionFraction[SampleRun])\n",
    "transmission_fraction.plot()\n",
    "# display(sans_workflow.compute(TofMonitor[SampleRun, Incident]).plot())\n",
    "# display(sans_workflow.compute(TofMonitor[SampleRun, Transmission]).plot())\n",
    "# display(sans_workflow.compute(TofMonitor[EmptyBeamRun, Incident]).hist().plot())\n",
    "# display(sans_workflow.compute(TofMonitor[EmptyBeamRun, Transmission]).hist().plot())"
   ]
  },
  {
   "cell_type": "code",
   "execution_count": null,
   "id": "1f3f3562",
   "metadata": {},
   "outputs": [],
   "source": [
    "cell_runs"
   ]
  },
  {
   "cell_type": "code",
   "execution_count": null,
   "id": "8089d00c",
   "metadata": {},
   "outputs": [],
   "source": [
    "sans_workflow[Filename[TransmissionRun[SampleRun]]] = str(depolarized_run)\n",
    "depolarized_transmission_fraction = sans_workflow.compute(\n",
    "    TransmissionFraction[SampleRun]\n",
    ")"
   ]
  },
  {
   "cell_type": "code",
   "execution_count": null,
   "id": "59430da2",
   "metadata": {},
   "outputs": [],
   "source": [
    "depolarized_transmission_fraction.plot()"
   ]
  },
  {
   "cell_type": "code",
   "execution_count": null,
   "id": "93897aaf",
   "metadata": {},
   "outputs": [],
   "source": [
    "transmission_fractions = []\n",
    "for cell_run in cell_runs:\n",
    "    sans_workflow[Filename[SampleRun]] = str(cell_run)\n",
    "    sans_workflow[Filename[TransmissionRun[SampleRun]]] = str(cell_run)\n",
    "    transmission_fractions.append(\n",
    "        sans_workflow.compute(TransmissionFraction[SampleRun])\n",
    "    )"
   ]
  },
  {
   "cell_type": "code",
   "execution_count": null,
   "id": "cf9bd8c2",
   "metadata": {},
   "outputs": [],
   "source": [
    "transmission_fraction = sc.concat(transmission_fractions, 'time')\n",
    "datetime = transmission_fraction.coords['datetime']\n",
    "transmission_fraction.coords['time'] = datetime - datetime.min()\n",
    "transmission_fraction.variances = None\n",
    "wav_min = 2.2 * sc.Unit('angstrom')\n",
    "wav_max = 2.8 * sc.Unit('angstrom')\n",
    "transmission_fraction = transmission_fraction['wavelength', wav_min:wav_max]\n",
    "depolarized_transmission_fraction = depolarized_transmission_fraction[\n",
    "    'wavelength', wav_min:wav_max\n",
    "].copy()\n",
    "depolarized_transmission_fraction.variances = None\n",
    "transmission_fraction.plot()"
   ]
  },
  {
   "cell_type": "code",
   "execution_count": null,
   "id": "f60870a0",
   "metadata": {},
   "outputs": [],
   "source": [
    "depolarized_transmission_fraction.plot()"
   ]
  },
  {
   "cell_type": "code",
   "execution_count": null,
   "id": "ce4ad908",
   "metadata": {},
   "outputs": [],
   "source": [
    "# Sanity check: Where can cosh yield values that can be fitted?\n",
    "transmission_empty_glass = 0.9 * sc.Unit('dimensionless')\n",
    "wavelength = sc.midpoints(transmission_fraction.coords['wavelength'])\n",
    "opacity0 = 0.8797823016804095 * sc.Unit('1/angstrom')\n",
    "(\n",
    "    sc.acosh(\n",
    "        transmission_fraction * sc.exp(opacity0 * wavelength) / transmission_empty_glass\n",
    "    )\n",
    "    / (opacity0 * wavelength)\n",
    ").plot()"
   ]
  },
  {
   "cell_type": "code",
   "execution_count": null,
   "id": "de8ba88b",
   "metadata": {},
   "outputs": [],
   "source": [
    "pol_workflow = pol.he3.He3CellWorkflow(in_situ=False)\n",
    "pol_workflow[\n",
    "    pol.he3.He3CellTransmissionFraction[pol.Analyzer, pol.Polarized]\n",
    "] = transmission_fraction\n",
    "pol_workflow[\n",
    "    pol.he3.He3CellTransmissionFraction[pol.Analyzer, pol.Depolarized]\n",
    "] = depolarized_transmission_fraction\n",
    "pol_workflow[pol.he3.He3CellLength[pol.Analyzer]] = 0.1 * sc.Unit('m')\n",
    "pol_workflow[pol.he3.He3CellPressure[pol.Analyzer]] = 1.0 * sc.Unit('bar')\n",
    "pol_workflow[pol.he3.He3CellTemperature[pol.Analyzer]] = 300.0 * sc.Unit('K')\n",
    "pol_workflow[pol.he3.He3TransmissionEmptyGlass[pol.Analyzer]] = transmission_empty_glass\n",
    "pol_workflow.visualize(pol.he3.He3TransmissionFunction[pol.Analyzer])\n",
    "func = pol_workflow.compute(pol.he3.He3TransmissionFunction[pol.Analyzer])"
   ]
  },
  {
   "cell_type": "code",
   "execution_count": null,
   "id": "17e57a8d",
   "metadata": {},
   "outputs": [],
   "source": [
    "wavelength = sc.linspace('wavelength', start=1.75, stop=16.5, num=141, unit='angstrom')\n",
    "time = sc.linspace('time', start=0, stop=10000, num=100, unit='s')\n",
    "func.opacity_function(wavelength=wavelength).plot()\n",
    "display(func.polarization_function(time=time).plot())\n",
    "display(func(wavelength=wavelength, time=time, plus_minus='plus').plot())\n",
    "display(func(wavelength=wavelength, time=time, plus_minus='minus').plot())"
   ]
  },
  {
   "cell_type": "code",
   "execution_count": null,
   "id": "090e915a",
   "metadata": {},
   "outputs": [],
   "source": [
    "func.opacity_function.opacity0"
   ]
  },
  {
   "cell_type": "code",
   "execution_count": null,
   "id": "969bc38d",
   "metadata": {},
   "outputs": [],
   "source": [
    "func.polarization_function.C"
   ]
  },
  {
   "cell_type": "code",
   "execution_count": null,
   "id": "df3d7625",
   "metadata": {},
   "outputs": [],
   "source": [
    "func.polarization_function.T1"
   ]
  }
 ],
 "metadata": {
  "kernelspec": {
   "display_name": "Python 3 (ipykernel)",
   "language": "python",
   "name": "python3"
  },
  "language_info": {
   "codemirror_mode": {
    "name": "ipython",
    "version": 3
   },
   "file_extension": ".py",
   "mimetype": "text/x-python",
   "name": "python",
   "nbconvert_exporter": "python",
   "pygments_lexer": "ipython3",
   "version": "3.10.12"
  }
 },
 "nbformat": 4,
 "nbformat_minor": 5
}
