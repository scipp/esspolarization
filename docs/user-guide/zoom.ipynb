{
 "cells": [
  {
   "cell_type": "markdown",
   "id": "ba4d302c",
   "metadata": {},
   "source": [
    "# Zoom Polarization Analysis\n",
    "\n",
    "## Introduction"
   ]
  },
  {
   "cell_type": "code",
   "execution_count": null,
   "id": "319162e9",
   "metadata": {},
   "outputs": [],
   "source": [
    "%matplotlib widget\n",
    "import sciline\n",
    "import scipp as sc\n",
    "from ess import polarization as pol\n",
    "from ess import sans\n",
    "from ess import isissans as isis\n",
    "from ess.sans.types import *"
   ]
  },
  {
   "cell_type": "code",
   "execution_count": null,
   "id": "a39c634b",
   "metadata": {},
   "outputs": [],
   "source": [
    "sans_workflow = isis.zoom.ZoomWorkflow()\n",
    "sans_workflow = sans.with_pixel_mask_filenames(sans_workflow, [])  # no masks"
   ]
  },
  {
   "cell_type": "code",
   "execution_count": null,
   "id": "9ed3bd06",
   "metadata": {},
   "outputs": [],
   "source": [
    "from pathlib import Path\n",
    "\n",
    "data_folder = Path('zoom_polarized_data')\n",
    "# Runs with analyzer at 4 different times\n",
    "cell_runs = [str(data_folder / f'ZOOM00022{run}.nxs') for run in [710, 712, 714, 716]]\n",
    "empty_run = data_folder / 'ZOOM00034787.nxs'\n",
    "depolarized_run = data_folder / 'ZOOM00022718.nxs'\n",
    "cell_runs = cell_runs + [depolarized_run]"
   ]
  },
  {
   "cell_type": "markdown",
   "id": "f5cfc6e8",
   "metadata": {},
   "source": [
    "## Setup SANS workflow for computing transmission fraction"
   ]
  },
  {
   "cell_type": "code",
   "execution_count": null,
   "id": "25d732c6",
   "metadata": {},
   "outputs": [],
   "source": [
    "from ess.polarization.zoom import ZoomTransmissionFractionWorkflow\n",
    "\n",
    "sans_workflow = ZoomTransmissionFractionWorkflow(cell_runs)\n",
    "sans_workflow[Filename[EmptyBeamRun]] = str(empty_run)\n",
    "sans_workflow[WavelengthBins] = sc.geomspace(\n",
    "    'wavelength', start=1.75, stop=16.5, num=141, unit='Å'\n",
    ")\n",
    "sans_workflow[isis.mantidio.Period] = 0\n",
    "sans_workflow[isis.mantidio.CalibrationWorkspace] = None"
   ]
  },
  {
   "cell_type": "markdown",
   "id": "f5f0dc89",
   "metadata": {},
   "source": [
    "## Inspect data for one of the runs with analyzer cell"
   ]
  },
  {
   "cell_type": "code",
   "execution_count": null,
   "id": "d2d20cf2",
   "metadata": {},
   "outputs": [],
   "source": [
    "loaded = sciline.get_mapped_node_names(\n",
    "    sans_workflow, isis.mantidio.LoadedFileContents[TransmissionRun[SampleRun]]\n",
    ")\n",
    "# Load only first run\n",
    "first_run = sans_workflow.compute(loaded[0])\n",
    "sc.DataGroup(sc.collapse(first_run['data'], keep='tof')).plot()"
   ]
  },
  {
   "cell_type": "code",
   "execution_count": null,
   "id": "7dc66781",
   "metadata": {},
   "outputs": [],
   "source": [
    "first_run"
   ]
  },
  {
   "cell_type": "markdown",
   "id": "fffb517a",
   "metadata": {},
   "source": [
    "We can load the combined time-dependent incident and transmission monitors.\n",
    "Note that the last run is the depolarized run:"
   ]
  },
  {
   "cell_type": "code",
   "execution_count": null,
   "id": "be75057e",
   "metadata": {},
   "outputs": [],
   "source": [
    "mons = sans_workflow.compute(\n",
    "    (\n",
    "        RawMonitor[TransmissionRun[SampleRun], Incident],\n",
    "        RawMonitor[TransmissionRun[SampleRun], Transmission],\n",
    "    )\n",
    ")\n",
    "mons = sc.DataGroup(\n",
    "    incident=mons[RawMonitor[TransmissionRun[SampleRun], Incident]],\n",
    "    transmission=mons[RawMonitor[TransmissionRun[SampleRun], Transmission]],\n",
    ")\n",
    "display(sc.DataGroup(sc.collapse(mons['incident'], keep='tof')).plot())\n",
    "display(sc.DataGroup(sc.collapse(mons['transmission'], keep='tof')).plot())"
   ]
  },
  {
   "cell_type": "markdown",
   "id": "42184cf7",
   "metadata": {},
   "source": [
    "The task graph for computing the transmission fraction is:"
   ]
  },
  {
   "cell_type": "code",
   "execution_count": null,
   "id": "fd8069b5",
   "metadata": {},
   "outputs": [],
   "source": [
    "sans_workflow.visualize(TransmissionFraction[SampleRun], graph_attr={'rankdir': 'LR'})"
   ]
  },
  {
   "cell_type": "markdown",
   "id": "4980ec55",
   "metadata": {},
   "source": [
    "## Compute transmission fractions\n",
    "\n",
    "There are multiple files which together define the time-dependence of the analyzer cell transmission.\n",
    "Note that as before the final run (time) is the depolarized run:"
   ]
  },
  {
   "cell_type": "code",
   "execution_count": null,
   "id": "8089d00c",
   "metadata": {},
   "outputs": [],
   "source": [
    "raw_transmission = sans_workflow.compute(TransmissionFraction[SampleRun])"
   ]
  },
  {
   "cell_type": "markdown",
   "id": "d8c4d7ab",
   "metadata": {},
   "source": [
    "We can plot the computed transmission fractions:"
   ]
  },
  {
   "cell_type": "code",
   "execution_count": null,
   "id": "946e2360",
   "metadata": {},
   "outputs": [],
   "source": [
    "transmission_depolarized = raw_transmission['time', -1].copy()\n",
    "transmission = raw_transmission['time', :-1].copy()\n",
    "trans = sc.DataGroup(\n",
    "    {f\"{time:c}\": transmission['time', time] for time in transmission.coords['time']}\n",
    ")\n",
    "trans[f'depolarized'] = transmission_depolarized\n",
    "display(trans.plot())"
   ]
  },
  {
   "cell_type": "code",
   "execution_count": null,
   "id": "ce4ad908",
   "metadata": {},
   "outputs": [],
   "source": [
    "# Sanity check: Where can cosh yield values that can be fitted?\n",
    "transmission_empty_glass = 0.9 * sc.Unit('dimensionless')\n",
    "wavelength = sc.midpoints(transmission.coords['wavelength'])\n",
    "opacity0 = 0.8797823016804095 * sc.Unit('1/angstrom')\n",
    "(\n",
    "    sc.acosh(\n",
    "        sc.values(transmission)\n",
    "        * sc.exp(opacity0 * wavelength)\n",
    "        / transmission_empty_glass\n",
    "    )\n",
    "    / (opacity0 * wavelength)\n",
    ").plot()"
   ]
  },
  {
   "cell_type": "code",
   "execution_count": null,
   "id": "ec437f85",
   "metadata": {},
   "outputs": [],
   "source": [
    "# TODO Which wavelength bounds should be used?\n",
    "wav_min = 2.2 * sc.Unit('angstrom')\n",
    "wav_max = 2.8 * sc.Unit('angstrom')\n",
    "transmission_truncated = raw_transmission['wavelength', wav_min:wav_max]\n",
    "transmission_depolarized = transmission_truncated['time', -1].copy()\n",
    "transmission = transmission_truncated['time', :-1].copy()"
   ]
  },
  {
   "cell_type": "markdown",
   "id": "2cbd03c5",
   "metadata": {},
   "source": [
    "We can now setup the polarization analysis workflow.\n",
    "The previously computed transmission fractions are used as workflow inputs:"
   ]
  },
  {
   "cell_type": "code",
   "execution_count": null,
   "id": "de8ba88b",
   "metadata": {},
   "outputs": [],
   "source": [
    "he3_workflow = pol.he3.He3CellWorkflow(in_situ=False, incoming_polarized=True)\n",
    "# TODO Is plus correct here, this is period 0? Do we also have minus data?\n",
    "he3_workflow[pol.he3.He3AnalyzerTransmissionFractionParallel] = transmission\n",
    "# TODO Fake empty transmission for now, would need to load different period\n",
    "he3_workflow[pol.he3.He3AnalyzerTransmissionFractionAntiParallel] = transmission[\n",
    "    'time', 0:0\n",
    "]\n",
    "he3_workflow[\n",
    "    pol.he3.He3CellTransmissionFractionIncomingUnpolarized[\n",
    "        pol.Analyzer, pol.Depolarized\n",
    "    ]\n",
    "] = transmission_depolarized\n",
    "\n",
    "# When in_situ=False, these params are used as starting guess for the fit\n",
    "he3_workflow[pol.he3.He3CellLength[pol.Analyzer]] = 0.1 * sc.Unit('m')\n",
    "he3_workflow[pol.he3.He3CellPressure[pol.Analyzer]] = 1.0 * sc.Unit('bar')\n",
    "he3_workflow[pol.he3.He3CellTemperature[pol.Analyzer]] = 300.0 * sc.Unit('K')\n",
    "\n",
    "he3_workflow[pol.he3.He3TransmissionEmptyGlass[pol.Analyzer]] = transmission_empty_glass\n",
    "he3_workflow.visualize(\n",
    "    pol.TransmissionFunction[pol.Analyzer], graph_attr={'rankdir': 'LR'}\n",
    ")"
   ]
  },
  {
   "cell_type": "markdown",
   "id": "33430a81",
   "metadata": {},
   "source": [
    "The workflow can compute the transmission function:"
   ]
  },
  {
   "cell_type": "code",
   "execution_count": null,
   "id": "732447e9",
   "metadata": {},
   "outputs": [],
   "source": [
    "func = he3_workflow.compute(pol.TransmissionFunction[pol.Analyzer])"
   ]
  },
  {
   "cell_type": "markdown",
   "id": "64fcc54b",
   "metadata": {},
   "source": [
    "We can evaluate this transmission function at desired time and wavelength points:"
   ]
  },
  {
   "cell_type": "code",
   "execution_count": null,
   "id": "17e57a8d",
   "metadata": {},
   "outputs": [],
   "source": [
    "wavelength = sc.linspace('wavelength', start=2, stop=16.0, num=141, unit='angstrom')\n",
    "time = sc.linspace('time', start=0, stop=100000, num=101, unit='s')\n",
    "display(func.opacity_function(wavelength=wavelength).plot())\n",
    "display(func.polarization_function(time=time).plot())\n",
    "display(func(wavelength=wavelength, time=time, plus_minus='plus').plot(norm='log'))\n",
    "display(func(wavelength=wavelength, time=time, plus_minus='minus').plot(norm='log'))"
   ]
  },
  {
   "cell_type": "code",
   "execution_count": null,
   "id": "b57332fb",
   "metadata": {},
   "outputs": [],
   "source": [
    "trans = func(wavelength=wavelength, time=time, plus_minus='plus')\n",
    "sc.DataGroup(\n",
    "    {f\"{time:c}\": trans['time', time] for time in trans.coords['time'][::20]}\n",
    ").plot(norm='linear', linestyle='solid', marker=None)"
   ]
  },
  {
   "cell_type": "code",
   "execution_count": null,
   "id": "6db375f1",
   "metadata": {},
   "outputs": [],
   "source": [
    "trans = func(wavelength=wavelength, time=time, plus_minus='plus')\n",
    "sc.DataGroup(\n",
    "    {f\"{wav:c}\": trans['wavelength', wav] for wav in trans.coords['wavelength'][::20]}\n",
    ").plot(norm='log', linestyle='solid', marker=None)"
   ]
  },
  {
   "cell_type": "code",
   "execution_count": null,
   "id": "090e915a",
   "metadata": {},
   "outputs": [],
   "source": [
    "func.opacity_function.opacity0"
   ]
  },
  {
   "cell_type": "code",
   "execution_count": null,
   "id": "969bc38d",
   "metadata": {},
   "outputs": [],
   "source": [
    "func.polarization_function.C"
   ]
  },
  {
   "cell_type": "code",
   "execution_count": null,
   "id": "df3d7625",
   "metadata": {},
   "outputs": [],
   "source": [
    "func.polarization_function.T1"
   ]
  },
  {
   "cell_type": "markdown",
   "id": "79f78366",
   "metadata": {},
   "source": [
    "## Correction workflow\n",
    "\n",
    "In the previous section we have setup the workflow for the analyzer.\n",
    "We also computed the transmission function there, but in production this will be done implicitly by running the entire workflow we will setup here.\n",
    "We can combine this with the workflow for the polarizer to obtain the full correction workflow:"
   ]
  },
  {
   "cell_type": "code",
   "execution_count": null,
   "id": "41bb77db",
   "metadata": {},
   "outputs": [],
   "source": [
    "supermirror_workflow = pol.SupermirrorWorkflow()\n",
    "supermirror_workflow.visualize(pol.TransmissionFunction[pol.Polarizer])"
   ]
  },
  {
   "cell_type": "markdown",
   "id": "c9209c68",
   "metadata": {},
   "source": [
    "We will use a second-order polynomial supermirror efficiency function:"
   ]
  },
  {
   "cell_type": "code",
   "execution_count": null,
   "id": "b2ef8c40",
   "metadata": {},
   "outputs": [],
   "source": [
    "# Note that these coefficients are meaningless, please fill in correct values!\n",
    "supermirror_workflow[pol.SupermirrorEfficiencyFunction[pol.Polarizer]] = (\n",
    "    pol.SecondDegreePolynomialEfficiency(\n",
    "        a=0.5 * sc.Unit('1/angstrom**2'),\n",
    "        b=0.4 * sc.Unit('1/angstrom'),\n",
    "        c=0.3 * sc.Unit('dimensionless'),\n",
    "    )\n",
    ")"
   ]
  },
  {
   "cell_type": "code",
   "execution_count": null,
   "id": "c95094c7",
   "metadata": {},
   "outputs": [],
   "source": [
    "workflow = pol.PolarizationAnalysisWorkflow(\n",
    "    polarizer_workflow=supermirror_workflow,\n",
    "    analyzer_workflow=he3_workflow,\n",
    ")"
   ]
  },
  {
   "cell_type": "markdown",
   "id": "d5e6b0b6",
   "metadata": {},
   "source": [
    "For a single channel, the complete workflow looks as follows:"
   ]
  },
  {
   "cell_type": "code",
   "execution_count": null,
   "id": "91a76593",
   "metadata": {},
   "outputs": [],
   "source": [
    "workflow.visualize(\n",
    "    pol.PolarizationCorrectedData[pol.Up, pol.Up], graph_attr={'rankdir': 'LR'}\n",
    ")"
   ]
  }
 ],
 "metadata": {
  "kernelspec": {
   "display_name": "Python 3 (ipykernel)",
   "language": "python",
   "name": "python3"
  },
  "language_info": {
   "codemirror_mode": {
    "name": "ipython",
    "version": 3
   },
   "file_extension": ".py",
   "mimetype": "text/x-python",
   "name": "python",
   "nbconvert_exporter": "python",
   "pygments_lexer": "ipython3",
   "version": "3.10.12"
  },
  "nbsphinx": {
   "execute": "never"
  }
 },
 "nbformat": 4,
 "nbformat_minor": 5
}
