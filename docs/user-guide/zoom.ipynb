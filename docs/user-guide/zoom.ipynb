{
 "cells": [
  {
   "cell_type": "markdown",
   "id": "ba4d302c",
   "metadata": {},
   "source": [
    "# Zoom Polarization Analysis\n",
    "\n",
    "## Introduction"
   ]
  },
  {
   "cell_type": "code",
   "execution_count": null,
   "id": "319162e9",
   "metadata": {},
   "outputs": [],
   "source": [
    "import sciline\n",
    "import scipp as sc\n",
    "from ess import polarization as pol\n",
    "from ess import isissans as isis\n",
    "from ess.sans.types import *"
   ]
  },
  {
   "cell_type": "code",
   "execution_count": null,
   "id": "a39c634b",
   "metadata": {},
   "outputs": [],
   "source": [
    "sans_workflow = isis.zoom.ZoomWorkflow()\n",
    "sans_workflow.set_param_series(PixelMaskFilename, [])"
   ]
  },
  {
   "cell_type": "code",
   "execution_count": null,
   "id": "9ed3bd06",
   "metadata": {},
   "outputs": [],
   "source": [
    "from pathlib import Path\n",
    "\n",
    "base = Path(\n",
    "    '~/instruments/polarization/Polarized_data_ZOOM/full_polarized_TOF-SANS_example_data_on_glassy_carbon'\n",
    ")\n",
    "data_folder = base / 'Long_3He_run'\n",
    "data_folder = base / 'GC/3He_GC'\n",
    "# Runs with analyzer at 4 different times\n",
    "cell_runs = [data_folder / f'ZOOM00022{run}.nxs' for run in [710, 712, 714, 716]]\n",
    "empty_run = data_folder / 'ZOOM00034787.nxs'\n",
    "cell_runs\n",
    "depolarized_run = data_folder / 'ZOOM00022718.nxs'"
   ]
  },
  {
   "cell_type": "markdown",
   "id": "f5cfc6e8",
   "metadata": {},
   "source": [
    "## Setup SANS workflow for computing transmission fraction"
   ]
  },
  {
   "cell_type": "code",
   "execution_count": null,
   "id": "25d732c6",
   "metadata": {},
   "outputs": [],
   "source": [
    "#new:\n",
    "from ess.polarization.zoom import ZoomTransmissionFractionWorkflow\n",
    "\n",
    "sans_workflow = ZoomTransmissionFractionWorkflow()\n",
    "sans_workflow[Filename[EmptyBeamRun]] = str(empty_run)\n",
    "sans_workflow[WavelengthBins] = sc.geomspace(\n",
    "    'wavelength', start=1.75, stop=16.5, num=141, unit='Å'\n",
    ")\n",
    "sans_workflow[isis.mantidio.Period] = 0"
   ]
  },
  {
   "cell_type": "code",
   "execution_count": null,
   "id": "f78b6fd4",
   "metadata": {},
   "outputs": [],
   "source": [
    "#Old:\n",
    "from ess.polarization.zoom import load_histogrammed_run, get_incident, get_transmission\n",
    "\n",
    "sans_workflow[Filename[SampleRun]] = str(cell_runs[0])\n",
    "sans_workflow[Filename[TransmissionRun[SampleRun]]] = str(cell_runs[0])\n",
    "sans_workflow[Filename[EmptyBeamRun]] = str(empty_run)\n",
    "sans_workflow[NeXusMonitorName[Incident]] = 'monitor3'\n",
    "sans_workflow[NeXusMonitorName[Transmission]] = 'monitor5'\n",
    "sans_workflow.insert(load_histogrammed_run)\n",
    "sans_workflow.insert(get_incident)\n",
    "sans_workflow.insert(get_transmission)\n",
    "sans_workflow[WavelengthBins] = sc.geomspace(\n",
    "    'wavelength', start=1.75, stop=16.5, num=141, unit='angstrom'\n",
    ")\n",
    "sans_workflow[UncertaintyBroadcastMode] = UncertaintyBroadcastMode.upper_bound\n",
    "sans_workflow[isis.mantidio.Period] = 0\n",
    "dg = sans_workflow.compute(isis.mantidio.LoadedFileContents[TransmissionRun[SampleRun]])\n",
    "dg['data'].plot()"
   ]
  },
  {
   "cell_type": "markdown",
   "id": "f5f0dc89",
   "metadata": {},
   "source": [
    "## Inspect data for one of the runs with analyzer cell"
   ]
  },
  {
   "cell_type": "code",
   "execution_count": null,
   "id": "d2d20cf2",
   "metadata": {},
   "outputs": [],
   "source": [
    "# Load only first run\n",
    "sans_workflow.set_param_series(Filename[TransmissionRun[SampleRun]], cell_runs[:1])\n",
    "loaded = sans_workflow.compute(\n",
    "    sciline.Series[\n",
    "        Filename[TransmissionRun[SampleRun]],\n",
    "        isis.mantidio.LoadedFileContents[TransmissionRun[SampleRun]],\n",
    "    ]\n",
    ")\n",
    "first_run = list(loaded.values())[0]\n",
    "sc.DataGroup(sc.collapse(first_run['data'], keep='tof')).plot()"
   ]
  },
  {
   "cell_type": "code",
   "execution_count": null,
   "id": "7dc66781",
   "metadata": {},
   "outputs": [],
   "source": [
    "first_run"
   ]
  },
  {
   "cell_type": "code",
   "execution_count": null,
   "id": "77cbebd3",
   "metadata": {},
   "outputs": [],
   "source": [
    "#Old:\n",
    "sans_workflow.visualize(TransmissionFraction[SampleRun], graph_attr={'rankdir': 'LR'})\n",
    "transmission_fraction = sans_workflow.compute(TransmissionFraction[SampleRun])\n",
    "transmission_fraction.plot()\n",
    "# display(sans_workflow.compute(TofMonitor[SampleRun, Incident]).plot())\n",
    "# display(sans_workflow.compute(TofMonitor[SampleRun, Transmission]).plot())\n",
    "# display(sans_workflow.compute(TofMonitor[EmptyBeamRun, Incident]).hist().plot())\n",
    "# display(sans_workflow.compute(TofMonitor[EmptyBeamRun, Transmission]).hist().plot())\n",
    "\n",
    "sans_workflow[Filename[TransmissionRun[SampleRun]]] = str(depolarized_run)\n",
    "depolarized_transmission_fraction = sans_workflow.compute(\n",
    "    TransmissionFraction[SampleRun]\n",
    ")\n",
    "depolarized_transmission_fraction.plot()"
   ]
  },
  {
   "cell_type": "markdown",
   "id": "fffb517a",
   "metadata": {},
   "source": [
    "We can load the combined time-dependent incident and transmission monitors.\n",
    "Note that the last run is the depolarized run:"
   ]
  },
  {
   "cell_type": "code",
   "execution_count": null,
   "id": "be75057e",
   "metadata": {},
   "outputs": [],
   "source": [
    "sans_workflow.set_param_series(Filename[TransmissionRun[SampleRun]], cell_runs)\n",
    "mons = sans_workflow.compute(\n",
    "    (\n",
    "        RawMonitor[TransmissionRun[SampleRun], Incident],\n",
    "        RawMonitor[TransmissionRun[SampleRun], Transmission],\n",
    "    )\n",
    ")\n",
    "mons = sc.DataGroup(\n",
    "    incident=mons[RawMonitor[TransmissionRun[SampleRun], Incident]],\n",
    "    transmission=mons[RawMonitor[TransmissionRun[SampleRun], Transmission]],\n",
    ")\n",
    "display(sc.DataGroup(sc.collapse(mons['incident'], keep='tof')).plot())\n",
    "display(sc.DataGroup(sc.collapse(mons['transmission'], keep='tof')).plot())"
   ]
  },
  {
   "cell_type": "markdown",
   "id": "42184cf7",
   "metadata": {},
   "source": [
    "The task graph for computing the transmission fraction is:"
   ]
  },
  {
   "cell_type": "code",
   "execution_count": null,
   "id": "fd8069b5",
   "metadata": {},
   "outputs": [],
   "source": [
    "sans_workflow.visualize(TransmissionFraction[SampleRun], graph_attr={'rankdir': 'LR'})"
   ]
  },
  {
   "cell_type": "markdown",
   "id": "4980ec55",
   "metadata": {},
   "source": [
    "## Compute transmission fractions\n",
    "\n",
    "There are multiple files which together define the time-dependence of the analyzer cell transmission.\n",
    "Note that as before the final run (time) is the depolarized run:"
   ]
  },
  {
   "cell_type": "code",
   "execution_count": null,
   "id": "8089d00c",
   "metadata": {},
   "outputs": [],
   "source": [
    "raw_transmission = sans_workflow.compute(TransmissionFraction[SampleRun])"
   ]
  },
  {
   "cell_type": "code",
   "execution_count": null,
   "id": "796ecc57",
   "metadata": {},
   "outputs": [],
   "source": [
    "# TODO Which wavelength bounds should be used?\n",
    "wav_min = 2.2 * sc.Unit('angstrom')\n",
    "wav_max = 5.8 * sc.Unit('angstrom')\n",
    "transmission_truncated = raw_transmission['wavelength', wav_min:wav_max]\n",
    "transmission_depolarized = transmission_truncated['time', -1].copy()\n",
    "transmission = transmission_truncated['time', :-1].copy()"
   ]
  },
  {
   "cell_type": "markdown",
   "id": "d8c4d7ab",
   "metadata": {},
   "source": [
    "We can plot the computed transmission fractions:"
   ]
  },
  {
   "cell_type": "code",
   "execution_count": null,
   "id": "946e2360",
   "metadata": {},
   "outputs": [],
   "source": [
    "trans = sc.DataGroup(\n",
    "    {\n",
    "        f\"{t.coords['time']:c}\": t\n",
    "        for t in sc.collapse(transmission, keep='wavelength').values()\n",
    "    }\n",
    ")\n",
    "trans[f'depolarized ({transmission_depolarized.coords[\"time\"]:c})'] = (\n",
    "    transmission_depolarized\n",
    ")\n",
    "display(trans.plot())"
   ]
  },
  {
   "cell_type": "code",
   "execution_count": null,
   "id": "ce4ad908",
   "metadata": {},
   "outputs": [],
   "source": [
    "# Sanity check: Where can cosh yield values that can be fitted?\n",
    "transmission_empty_glass = 0.9 * sc.Unit('dimensionless')\n",
    "wavelength = sc.midpoints(transmission.coords['wavelength'])\n",
    "opacity0 = 0.8797823016804095 * sc.Unit('1/angstrom')\n",
    "(\n",
    "    sc.acosh(transmission * sc.exp(opacity0 * wavelength) / transmission_empty_glass)\n",
    "    / (opacity0 * wavelength)\n",
    ").plot()"
   ]
  },
  {
   "cell_type": "markdown",
   "id": "2cbd03c5",
   "metadata": {},
   "source": [
    "We can now setup the polarization analysis workflow.\n",
    "The previously computed transmission fractions are used as workflow inputs:"
   ]
  },
  {
   "cell_type": "code",
   "execution_count": null,
   "id": "de8ba88b",
   "metadata": {},
   "outputs": [],
   "source": [
    "#new:\n",
    "pol_workflow = pol.he3.He3CellWorkflow(in_situ=False, incoming_polarized=True)\n",
    "pol_workflow[pol.he3.He3CellTransmissionFraction[pol.Analyzer, pol.Polarized]] = (\n",
    "    transmission\n",
    ")\n",
    "pol_workflow[pol.he3.He3CellTransmissionFraction[pol.Analyzer, pol.Depolarized]] = (\n",
    "    transmission_depolarized\n",
    ")\n",
    "\n",
    "# When in_situ=False, these params are used as starting guess for the fit\n",
    "pol_workflow[pol.he3.He3CellLength[pol.Analyzer]] = 0.1 * sc.Unit('m')\n",
    "pol_workflow[pol.he3.He3CellPressure[pol.Analyzer]] = 1.0 * sc.Unit('bar')\n",
    "pol_workflow[pol.he3.He3CellTemperature[pol.Analyzer]] = 300.0 * sc.Unit('K')\n",
    "\n",
    "pol_workflow[pol.he3.He3TransmissionEmptyGlass[pol.Analyzer]] = transmission_empty_glass\n",
    "pol_workflow.visualize(\n",
    "    pol.he3.He3TransmissionFunction[pol.Analyzer], graph_attr={'rankdir': 'LR'}\n",
    ")"
   ]
  },
  {
   "cell_type": "code",
   "execution_count": null,
   "id": "3331c35c",
   "metadata": {},
   "outputs": [],
   "source": [
    "#Old:\n",
    "pol_workflow = pol.he3.He3CellWorkflow(in_situ=False)\n",
    "pol_workflow.insert(pol.he3.get_he3_transmission_from_fit_to_direct_beam_from_polarized_incoming_beam)\n",
    "#Note:  If line 2 is in, we automatically use the function for incoming polarized beam instead of incming unpolarized (what Simon has written before)\n",
    "#       If an incoming unpolarized beam is used, comment line 2!\n",
    "pol_workflow[\n",
    "    pol.he3.He3CellTransmissionFraction[pol.Analyzer, pol.Polarized]\n",
    "] = transmission_fraction\n",
    "pol_workflow[\n",
    "    pol.he3.He3CellTransmissionFraction[pol.Analyzer, pol.Depolarized]\n",
    "] = depolarized_transmission_fraction\n",
    "\n",
    "# When in_situ=False, these params are used as starting guess for the fit\n",
    "pol_workflow[pol.he3.He3CellLength[pol.Analyzer]] = 0.1 * sc.Unit('m')\n",
    "pol_workflow[pol.he3.He3CellPressure[pol.Analyzer]] = 1.0 * sc.Unit('bar')\n",
    "pol_workflow[pol.he3.He3CellTemperature[pol.Analyzer]] = 300.0 * sc.Unit('K')\n",
    "\n",
    "pol_workflow[pol.he3.He3TransmissionEmptyGlass[pol.Analyzer]] = transmission_empty_glass\n",
    "pol_workflow.visualize(\n",
    "    pol.he3.He3TransmissionFunction[pol.Analyzer], graph_attr={'rankdir': 'LR'}\n",
    ")"
   ]
  },
  {
   "cell_type": "markdown",
   "id": "33430a81",
   "metadata": {},
   "source": [
    "The workflow can compute the transmission function:"
   ]
  },
  {
   "cell_type": "code",
   "execution_count": null,
   "id": "732447e9",
   "metadata": {},
   "outputs": [],
   "source": [
    "func = pol_workflow.compute(pol.he3.He3TransmissionFunction[pol.Analyzer])"
   ]
  },
  {
   "cell_type": "markdown",
   "id": "64fcc54b",
   "metadata": {},
   "source": [
    "We can evaluate this transmission function at desired time and wavelength points:"
   ]
  },
  {
   "cell_type": "code",
   "execution_count": null,
   "id": "17e57a8d",
   "metadata": {},
   "outputs": [],
   "source": [
    "wavelength = sc.linspace('wavelength', start=1.75, stop=16.5, num=141, unit='angstrom')\n",
    "time = sc.linspace('time', start=0, stop=100000, num=100, unit='s')\n",
    "display(func.opacity_function(wavelength=wavelength).plot())\n",
    "display(func.polarization_function(time=time).plot())\n",
    "display(func(wavelength=wavelength, time=time, plus_minus='plus').plot(norm='log'))\n",
    "display(func(wavelength=wavelength, time=time, plus_minus='minus').plot(norm='log'))"
   ]
  },
  {
   "cell_type": "code",
   "execution_count": null,
   "id": "090e915a",
   "metadata": {},
   "outputs": [],
   "source": [
    "func.opacity_function.opacity0"
   ]
  },
  {
   "cell_type": "code",
   "execution_count": null,
   "id": "969bc38d",
   "metadata": {},
   "outputs": [],
   "source": [
    "func.polarization_function.C"
   ]
  },
  {
   "cell_type": "code",
   "execution_count": null,
   "id": "df3d7625",
   "metadata": {},
   "outputs": [],
   "source": [
    "func.polarization_function.T1"
   ]
  }
 ],
 "metadata": {
  "kernelspec": {
   "display_name": "Python 3 (ipykernel)",
   "language": "python",
   "name": "python3"
  },
  "language_info": {
   "codemirror_mode": {
    "name": "ipython",
    "version": 3
   },
   "file_extension": ".py",
   "mimetype": "text/x-python",
   "name": "python",
   "nbconvert_exporter": "python",
   "pygments_lexer": "ipython3",
   "version": "3.10.12"
  }
 },
 "nbformat": 4,
 "nbformat_minor": 5
}
