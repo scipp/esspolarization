{
 "cells": [
  {
   "cell_type": "markdown",
   "metadata": {},
   "source": [
    "# Workflows\n",
    "\n",
    "## He3 Cell Workflow\n",
    "\n",
    "The `he3` submodule provides a helper `He3CellWorkflow`:"
   ]
  },
  {
   "cell_type": "code",
   "execution_count": null,
   "metadata": {},
   "outputs": [],
   "source": [
    "from ess import polarization as pol\n",
    "\n",
    "print(pol.he3.He3CellWorkflow.__doc__)"
   ]
  },
  {
   "cell_type": "markdown",
   "metadata": {},
   "source": [
    "### Opacity\n",
    "\n",
    "There are two ways of computing the opacity, from cell parameters and from direct-beam measurements."
   ]
  },
  {
   "cell_type": "code",
   "execution_count": null,
   "metadata": {},
   "outputs": [],
   "source": [
    "workflow = pol.he3.He3CellWorkflow(in_situ=True)  # True is the default\n",
    "workflow.visualize(pol.He3OpacityFunction[pol.Polarizer])"
   ]
  },
  {
   "cell_type": "code",
   "execution_count": null,
   "metadata": {},
   "outputs": [],
   "source": [
    "workflow = pol.he3.He3CellWorkflow(in_situ=False)\n",
    "workflow.visualize(pol.He3OpacityFunction[pol.Polarizer])"
   ]
  },
  {
   "cell_type": "markdown",
   "metadata": {},
   "source": [
    "### Transmission function\n",
    "\n",
    "The opacity can be used to obtain the transmission function of the cells.\n",
    "We show the in-situ case, but it works equivalently for the more precise definition of opacity:"
   ]
  },
  {
   "cell_type": "code",
   "execution_count": null,
   "metadata": {},
   "outputs": [],
   "source": [
    "\n",
    "workflow = pol.he3.He3CellWorkflow(in_situ=True, incoming_polarized=False)\n",
    "workflow.visualize(\n",
    "    pol.TransmissionFunction[pol.Polarizer], graph_attr={\"rankdir\": \"LR\"}\n",
    ")"
   ]
  },
  {
   "cell_type": "markdown",
   "metadata": {},
   "source": [
    "There is a variant of the workflow using an incoming polarized beam for computing the transmission function of the analyzer. \n",
    "Note that the incoming polarized case only applies to the analyzer, since for the polarizer the incoming neutron beam will always be unpolarized:"
   ]
  },
  {
   "cell_type": "code",
   "execution_count": null,
   "metadata": {},
   "outputs": [],
   "source": [
    "workflow = pol.he3.He3CellWorkflow(in_situ=True, incoming_polarized=True)\n",
    "workflow.visualize(\n",
    "    (pol.TransmissionFunction[pol.Polarizer], pol.TransmissionFunction[pol.Analyzer]),\n",
    "    graph_attr={\"rankdir\": \"LR\"},\n",
    ")"
   ]
  },
  {
   "cell_type": "markdown",
   "metadata": {},
   "source": [
    "## Supermirror Workflow\n",
    "\n",
    "The `supermirror` submodule provides a helper `SupermirrorWorkflow`:"
   ]
  },
  {
   "cell_type": "code",
   "execution_count": null,
   "metadata": {},
   "outputs": [],
   "source": [
    "from ess import polarization as pol\n",
    "\n",
    "workflow = pol.supermirror.SupermirrorWorkflow()\n",
    "print(workflow.__doc__)"
   ]
  },
  {
   "cell_type": "code",
   "execution_count": null,
   "metadata": {},
   "outputs": [],
   "source": [
    "workflow.visualize(pol.TransmissionFunction[pol.Polarizer])"
   ]
  },
  {
   "cell_type": "markdown",
   "metadata": {},
   "source": [
    "## Full pipeline\n",
    "\n",
    "### On-the-fly reduction: opacity from cell parameters"
   ]
  },
  {
   "cell_type": "markdown",
   "metadata": {},
   "source": [
    "In total, we can choose to use either He3-cells or supermirrors for both the polarizer and analyzer.\n",
    "Following cell shows an example of using a polarizer supermirror and analyzer He3-cell with an incoming polarized beam and an in-situ opacity calculation:"
   ]
  },
  {
   "cell_type": "code",
   "execution_count": null,
   "metadata": {},
   "outputs": [],
   "source": [
    "he3_workflow = pol.He3CellWorkflow(in_situ=True, incoming_polarized=True)\n",
    "sm_workflow = pol.supermirror.SupermirrorWorkflow()\n",
    "\n",
    "workflow = pol.PolarizationAnalysisWorkflow(\n",
    "    analyzer_workflow=he3_workflow, polarizer_workflow=sm_workflow\n",
    ")\n",
    "results = (\n",
    "    pol.PolarizationCorrectedData[pol.Up, pol.Up],\n",
    "    pol.PolarizationCorrectedData[pol.Up, pol.Down],\n",
    "    pol.PolarizationCorrectedData[pol.Down, pol.Up],\n",
    "    pol.PolarizationCorrectedData[pol.Down, pol.Down],\n",
    ")\n",
    "workflow.visualize(results, graph_attr={\"rankdir\": \"LR\"})"
   ]
  },
  {
   "cell_type": "markdown",
   "metadata": {},
   "source": [
    "### Precise reduction: opacity from direct-beam measurements of unpolarized cells"
   ]
  },
  {
   "cell_type": "markdown",
   "metadata": {},
   "source": [
    "Here, an example is presented using the opacity calculation from direct-beam measurements (ex-situ case) for having 2x He3-cells as analyzer and polarizer. Note that the incoming-polarized beam only applies to the analyzer, since the polarizer will always use an incoming-unpolarized beam. Hence, one could alternatively use the same command is described under [Transmission function](#Transmission-function) for 2x He3-cells.\n"
   ]
  },
  {
   "cell_type": "code",
   "execution_count": null,
   "metadata": {},
   "outputs": [],
   "source": [
    "he3_polarizer_workflow = pol.He3CellWorkflow(in_situ=False, incoming_polarized=False)\n",
    "he3_analyzer_workflow = pol.He3CellWorkflow(in_situ=False, incoming_polarized=True)\n",
    "\n",
    "workflow = pol.PolarizationAnalysisWorkflow(\n",
    "    analyzer_workflow=he3_analyzer_workflow, polarizer_workflow=he3_polarizer_workflow\n",
    ")\n",
    "workflow.visualize(results, graph_attr={\"rankdir\": \"LR\"})"
   ]
  },
  {
   "cell_type": "markdown",
   "metadata": {},
   "source": [
    "## Correction workflow\n",
    "\n",
    "The correction worklow on its own looks as follows:"
   ]
  },
  {
   "cell_type": "code",
   "execution_count": null,
   "metadata": {},
   "outputs": [],
   "source": [
    "from ess.polarization.correction import CorrectionWorkflow\n",
    "\n",
    "workflow = CorrectionWorkflow()\n",
    "workflow.visualize(results, graph_attr={\"rankdir\": \"LR\"})"
   ]
  },
  {
   "cell_type": "markdown",
   "metadata": {},
   "source": [
    "There is also a half-polarized version of the workflow, in case only a polarizer is used:"
   ]
  },
  {
   "cell_type": "code",
   "execution_count": null,
   "metadata": {},
   "outputs": [],
   "source": [
    "from ess.polarization.correction import CorrectionWorkflow\n",
    "\n",
    "results = (\n",
    "    pol.HalfPolarizedCorrectedData[pol.Up],\n",
    "    pol.HalfPolarizedCorrectedData[pol.Down],\n",
    ")\n",
    "workflow = CorrectionWorkflow(half_polarized=True)\n",
    "workflow.visualize(results, graph_attr={\"rankdir\": \"LR\"})"
   ]
  },
  {
   "cell_type": "markdown",
   "metadata": {},
   "source": [
    "Note that in parts of the workflow `Up` is used as a dummy value for the spin of the analyzer that is not present."
   ]
  }
 ],
 "metadata": {
  "kernelspec": {
   "display_name": "Python 3 (ipykernel)",
   "language": "python",
   "name": "python3"
  },
  "language_info": {
   "codemirror_mode": {
    "name": "ipython",
    "version": 3
   },
   "file_extension": ".py",
   "mimetype": "text/x-python",
   "name": "python",
   "nbconvert_exporter": "python",
   "pygments_lexer": "ipython3",
   "version": "3.11.6"
  }
 },
 "nbformat": 4,
 "nbformat_minor": 4
}
