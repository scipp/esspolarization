{
 "cells": [
  {
   "cell_type": "markdown",
   "metadata": {},
   "source": [
    "# He3 Cell Workflow\n",
    "\n",
    "The `he3` submodule provides a helper `He3CellWorkflow`:"
   ]
  },
  {
   "cell_type": "code",
   "execution_count": null,
   "metadata": {},
   "outputs": [],
   "source": [
    "from ess import polarization as pol\n",
    "\n",
    "print(pol.he3.He3CellWorkflow.__doc__)"
   ]
  },
  {
   "cell_type": "markdown",
   "metadata": {},
   "source": [
    "## Opacity\n",
    "\n",
    "There are two ways of computing the opacity, from cell parameters and from direct-beam measurements."
   ]
  },
  {
   "cell_type": "code",
   "execution_count": null,
   "metadata": {},
   "outputs": [],
   "source": [
    "workflow = pol.he3.He3CellWorkflow(in_situ=True)  # True is the default\n",
    "workflow.visualize(pol.He3OpacityFunction[pol.Polarizer])"
   ]
  },
  {
   "cell_type": "code",
   "execution_count": null,
   "metadata": {},
   "outputs": [],
   "source": [
    "workflow = pol.he3.He3CellWorkflow(in_situ=False)\n",
    "workflow.visualize(pol.He3OpacityFunction[pol.Polarizer])"
   ]
  },
  {
   "cell_type": "markdown",
   "metadata": {},
   "source": [
    "## Transmission function\n",
    "\n",
    "The opacity can be used to obtain the transmission function of the cells.\n",
    "We show the in-situ case, but it works equivalently for the more precise definition of opacity:"
   ]
  },
  {
   "cell_type": "code",
   "execution_count": null,
   "metadata": {},
   "outputs": [],
   "source": [
    "workflow = pol.he3.He3CellWorkflow()\n",
    "workflow.visualize(\n",
    "    pol.TransmissionFunction[pol.Polarizer], graph_attr={\"rankdir\": \"LR\"}\n",
    ")"
   ]
  },
  {
   "cell_type": "markdown",
   "metadata": {},
   "source": [
    "## Full pipeline\n",
    "\n",
    "### On-the-fly reduction: opacity from cell parameters"
   ]
  },
  {
   "cell_type": "code",
   "execution_count": null,
   "metadata": {},
   "outputs": [],
   "source": [
    "he3_workflow = pol.He3CellWorkflow()\n",
    "workflow = pol.PolarizationAnalysisWorkflow(\n",
    "    analyzer_workflow=he3_workflow, polarizer_workflow=he3_workflow\n",
    ")\n",
    "results = (\n",
    "    pol.PolarizationCorrectedData[pol.Up, pol.Up],\n",
    "    pol.PolarizationCorrectedData[pol.Up, pol.Down],\n",
    "    pol.PolarizationCorrectedData[pol.Down, pol.Up],\n",
    "    pol.PolarizationCorrectedData[pol.Down, pol.Down],\n",
    ")\n",
    "workflow.visualize(results, graph_attr={\"rankdir\": \"LR\"})"
   ]
  },
  {
   "cell_type": "markdown",
   "metadata": {},
   "source": [
    "### Precise reduction: opacity from direct-beam measurements of unpolarized cells"
   ]
  },
  {
   "cell_type": "code",
   "execution_count": null,
   "metadata": {},
   "outputs": [],
   "source": [
    "he3_workflow = pol.he3.He3CellWorkflow(in_situ=False)\n",
    "workflow = pol.PolarizationAnalysisWorkflow(\n",
    "    analyzer_workflow=he3_workflow, polarizer_workflow=he3_workflow\n",
    ")\n",
    "workflow.visualize(results, graph_attr={\"rankdir\": \"LR\"})"
   ]
  },
  {
   "cell_type": "markdown",
   "metadata": {},
   "source": [
    "## Correction workflow\n",
    "\n",
    "The correction worklow on its own looks as follows:"
   ]
  },
  {
   "cell_type": "code",
   "execution_count": null,
   "metadata": {},
   "outputs": [],
   "source": [
    "from ess.polarization.correction import CorrectionWorkflow\n",
    "\n",
    "workflow = CorrectionWorkflow()\n",
    "workflow.visualize(results, graph_attr={\"rankdir\": \"LR\"})"
   ]
  }
 ],
 "metadata": {
  "kernelspec": {
   "display_name": "Python 3 (ipykernel)",
   "language": "python",
   "name": "python3"
  },
  "language_info": {
   "codemirror_mode": {
    "name": "ipython",
    "version": 3
   },
   "file_extension": ".py",
   "mimetype": "text/x-python",
   "name": "python",
   "nbconvert_exporter": "python",
   "pygments_lexer": "ipython3",
   "version": "3.10.12"
  }
 },
 "nbformat": 4,
 "nbformat_minor": 4
}
