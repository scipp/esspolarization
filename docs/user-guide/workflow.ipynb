{
 "cells": [
  {
   "cell_type": "markdown",
   "metadata": {},
   "source": [
    "# Data reduction workflow graph\n",
    "\n",
    "We define a basic data reduction workflow using Sciline.\n",
    "The individual steps are currently not functional (mostly empty dummy functions), but we can begin to define the workflow graph."
   ]
  },
  {
   "cell_type": "code",
   "execution_count": null,
   "metadata": {},
   "outputs": [],
   "source": [
    "from ess import polarization as pol\n",
    "import scipp as sc\n",
    "import sciline"
   ]
  },
  {
   "cell_type": "markdown",
   "metadata": {},
   "source": [
    "## Opacity\n",
    "\n",
    "There are two ways of computing the opacity, from cell parameters and from direct-beam measurements."
   ]
  },
  {
   "cell_type": "code",
   "execution_count": null,
   "metadata": {},
   "outputs": [],
   "source": [
    "workflow = sciline.Pipeline([pol.he3_opacity_from_cell_params])\n",
    "workflow.visualize(pol.He3OpacityFunction[pol.Polarizer])"
   ]
  },
  {
   "cell_type": "code",
   "execution_count": null,
   "metadata": {},
   "outputs": [],
   "source": [
    "workflow = sciline.Pipeline([pol.he3_opacity_from_beam_data])\n",
    "workflow.visualize(pol.He3OpacityFunction[pol.Polarizer])"
   ]
  },
  {
   "cell_type": "markdown",
   "metadata": {},
   "source": [
    "## Full pipeline\n",
    "\n",
    "### On-the-fly reduction: opacity from cell parameters\n",
    "\n",
    "#### With meta data from files"
   ]
  },
  {
   "cell_type": "code",
   "execution_count": null,
   "metadata": {},
   "outputs": [],
   "source": [
    "from copy import copy\n",
    "\n",
    "providers = copy(pol.providers)\n",
    "providers.remove(pol.he3_opacity_from_beam_data)\n",
    "providers.append(pol.he3_opacity_from_cell_params)\n",
    "workflow = sciline.Pipeline(providers)\n",
    "results = (pol.PolarizationCorrectedSampleData,)\n",
    "graph = workflow.visualize(results, graph_attr={'rankdir': 'LR'})\n",
    "graph.render('polarization-from-cell-params', format='png')\n",
    "graph"
   ]
  },
  {
   "cell_type": "markdown",
   "metadata": {},
   "source": [
    "#### Manual config\n",
    "\n",
    "Notes:\n",
    "- We do not have final file structure yet.\n",
    "  Therefore we compute $I(Q)$ and direct beam manually and set it in the workflow.\n",
    "- `he3_polarization` and `he3_transmission` are not implemented yet."
   ]
  },
  {
   "cell_type": "code",
   "execution_count": null,
   "metadata": {},
   "outputs": [],
   "source": [
    "workflow[pol.base.ReducedSampleDataBySpinChannel[pol.Down, pol.Down]] = None\n",
    "workflow[pol.base.ReducedSampleDataBySpinChannel[pol.Up, pol.Down]] = None\n",
    "workflow[pol.base.ReducedSampleDataBySpinChannel[pol.Down, pol.Up]] = None\n",
    "workflow[pol.base.ReducedSampleDataBySpinChannel[pol.Up, pol.Up]] = None\n",
    "workflow[pol.base.ReducedDirectBeamDataNoCell] = None\n",
    "workflow[pol.base.ReducedDirectBeamData[pol.Analyzer,pol.Polarized]] = None\n",
    "workflow[pol.base.ReducedDirectBeamData[pol.Polarizer,pol.Polarized]] = None\n",
    "workflow.visualize(pol.He3Transmission[pol.Polarizer], graph_attr={'rankdir': 'LR'})"
   ]
  },
  {
   "cell_type": "markdown",
   "metadata": {},
   "source": [
    "### Precise reduction: opacity from direct-beam measurements of unpolarized cells"
   ]
  },
  {
   "cell_type": "code",
   "execution_count": null,
   "metadata": {},
   "outputs": [],
   "source": [
    "workflow = sciline.Pipeline(pol.providers)\n",
    "results = (pol.PolarizationCorrectedSampleData,)\n",
    "graph = workflow.visualize(results, graph_attr={'rankdir': 'LR'})\n",
    "graph.render('polarization-from-neutron-beam', format='png')\n",
    "graph"
   ]
  }
 ],
 "metadata": {
  "kernelspec": {
   "display_name": "Python 3 (ipykernel)",
   "language": "python",
   "name": "python3"
  },
  "language_info": {
   "codemirror_mode": {
    "name": "ipython",
    "version": 3
   },
   "file_extension": ".py",
   "mimetype": "text/x-python",
   "name": "python",
   "nbconvert_exporter": "python",
   "pygments_lexer": "ipython3",
   "version": "3.10.12"
  }
 },
 "nbformat": 4,
 "nbformat_minor": 4
}
