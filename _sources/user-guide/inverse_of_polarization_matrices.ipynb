{
 "cells": [
  {
   "cell_type": "code",
   "execution_count": null,
   "id": "0",
   "metadata": {},
   "outputs": [],
   "source": [
    "import sympy as sp\n",
    "import numpy as np"
   ]
  },
  {
   "cell_type": "code",
   "execution_count": null,
   "id": "1",
   "metadata": {},
   "outputs": [],
   "source": [
    "Tp = sp.symbols('T^p_+, T^p_-', positive=True)\n",
    "Ta = sp.symbols('T^a_+, T^a_-', positive=True)\n",
    "I = sp.symbols('Ipp, Ipm, Imp, Imm', positive=True)  # noqa: E741\n"
   ]
  },
  {
   "cell_type": "markdown",
   "id": "2",
   "metadata": {},
   "source": [
    "# Polarization matrices for He3 cells and supermirror\n",
    "\n",
    "From https://www.epj-conferences.org/articles/epjconf/abs/2023/12/epjconf_ecns2023_03004/epjconf_ecns2023_03004.html"
   ]
  },
  {
   "cell_type": "code",
   "execution_count": null,
   "id": "3",
   "metadata": {},
   "outputs": [],
   "source": [
    "I = sp.ImmutableDenseMatrix([[I[0]], [I[1]], [I[2]], [I[3]]])  # noqa: E741\n",
    "I"
   ]
  },
  {
   "cell_type": "code",
   "execution_count": null,
   "id": "4",
   "metadata": {},
   "outputs": [],
   "source": [
    "TP = sp.ImmutableDenseMatrix(\n",
    "    [\n",
    "        [Tp[0], 0, Tp[1], 0],\n",
    "        [0, Tp[0], 0, Tp[1]],\n",
    "        [Tp[1], 0, Tp[0], 0],\n",
    "        [0, Tp[1], 0, Tp[0]],\n",
    "    ]\n",
    ")\n",
    "TP"
   ]
  },
  {
   "cell_type": "code",
   "execution_count": null,
   "id": "5",
   "metadata": {},
   "outputs": [],
   "source": [
    "TP.inv()"
   ]
  },
  {
   "cell_type": "code",
   "execution_count": null,
   "id": "6",
   "metadata": {},
   "outputs": [],
   "source": [
    "TA = sp.ImmutableDenseMatrix(\n",
    "    [\n",
    "        [Ta[0], Ta[1], 0, 0],\n",
    "        [Ta[1], Ta[0], 0, 0],\n",
    "        [0, 0, Ta[0], Ta[1]],\n",
    "        [0, 0, Ta[1], Ta[0]],\n",
    "    ]\n",
    ")\n",
    "TA"
   ]
  },
  {
   "cell_type": "code",
   "execution_count": null,
   "id": "7",
   "metadata": {},
   "outputs": [],
   "source": [
    "TA.inv()"
   ]
  },
  {
   "cell_type": "markdown",
   "id": "8",
   "metadata": {},
   "source": [
    "## Helium cell case"
   ]
  },
  {
   "cell_type": "code",
   "execution_count": null,
   "id": "9",
   "metadata": {},
   "outputs": [],
   "source": [
    "(TA @ TP).inv().factor()"
   ]
  },
  {
   "cell_type": "markdown",
   "id": "10",
   "metadata": {},
   "source": [
    "Same denominator in all entries, maybe easier to evaluate this way:"
   ]
  },
  {
   "cell_type": "code",
   "execution_count": null,
   "id": "11",
   "metadata": {},
   "outputs": [],
   "source": [
    "d = (Ta[0] ** 2 - Ta[1] ** 2) * (Tp[0] ** 2 - Tp[1] ** 2)\n",
    "d"
   ]
  },
  {
   "cell_type": "code",
   "execution_count": null,
   "id": "12",
   "metadata": {},
   "outputs": [],
   "source": [
    "(d * (TA @ TP).inv()).simplify()"
   ]
  },
  {
   "cell_type": "markdown",
   "id": "13",
   "metadata": {},
   "source": [
    "## Supermirror case"
   ]
  },
  {
   "cell_type": "code",
   "execution_count": null,
   "id": "14",
   "metadata": {},
   "outputs": [],
   "source": [
    "f1, f2 = sp.symbols('f_1:3')\n",
    "F1_parallel = sp.ImmutableDenseMatrix(\n",
    "    [\n",
    "        [1, 0, 0, 0],\n",
    "        [0, 1, 0, 0],\n",
    "        [1 - f1, 0, f1, 0],\n",
    "        [0, 1 - f1, 0, f1],\n",
    "    ]\n",
    ")\n",
    "F1_parallel"
   ]
  },
  {
   "cell_type": "code",
   "execution_count": null,
   "id": "15",
   "metadata": {},
   "outputs": [],
   "source": [
    "F1_parallel.inv()"
   ]
  },
  {
   "cell_type": "code",
   "execution_count": null,
   "id": "16",
   "metadata": {},
   "outputs": [],
   "source": [
    "(F1_parallel.inv() @ F1_parallel).simplify()"
   ]
  },
  {
   "cell_type": "code",
   "execution_count": null,
   "id": "17",
   "metadata": {},
   "outputs": [],
   "source": [
    "F2_parallel = sp.ImmutableDenseMatrix(\n",
    "    [\n",
    "        [1, 0, 0, 0],\n",
    "        [1 - f2, f2, 0, 0],\n",
    "        [0, 0, 1, 0],\n",
    "        [0, 0, 1 - f2, f2],\n",
    "    ]\n",
    ")\n",
    "F2_parallel"
   ]
  },
  {
   "cell_type": "code",
   "execution_count": null,
   "id": "18",
   "metadata": {},
   "outputs": [],
   "source": [
    "F1_antiparallel = sp.ImmutableDenseMatrix(\n",
    "    [\n",
    "        [f1, 0, 1 - f1, 0],\n",
    "        [0, f1, 0, 1 - f1],\n",
    "        [0, 0, 1, 0],\n",
    "        [0, 0, 0, 1],\n",
    "    ]\n",
    ")\n",
    "F1_antiparallel"
   ]
  },
  {
   "cell_type": "code",
   "execution_count": null,
   "id": "19",
   "metadata": {},
   "outputs": [],
   "source": [
    "F2_antiparallel = sp.ImmutableDenseMatrix(\n",
    "    [\n",
    "        [1, 1 - f2, 0, 0],\n",
    "        [0, f2, 0, 0],\n",
    "        [0, 0, 1, 1 - f2],\n",
    "        [0, 0, 0, f2],\n",
    "    ]\n",
    ")\n",
    "F2_antiparallel"
   ]
  },
  {
   "cell_type": "code",
   "execution_count": null,
   "id": "20",
   "metadata": {},
   "outputs": [],
   "source": [
    "(F1_antiparallel @ F1_antiparallel.inv()).simplify()"
   ]
  },
  {
   "cell_type": "code",
   "execution_count": null,
   "id": "21",
   "metadata": {},
   "outputs": [],
   "source": [
    "(F2_antiparallel @ F2_antiparallel.inv()).simplify()"
   ]
  },
  {
   "cell_type": "code",
   "execution_count": null,
   "id": "22",
   "metadata": {},
   "outputs": [],
   "source": [
    "(TP.inv() @ F1_parallel.inv()).simplify()"
   ]
  },
  {
   "cell_type": "code",
   "execution_count": null,
   "id": "23",
   "metadata": {},
   "outputs": [],
   "source": [
    "(TP.inv() @ F1_antiparallel.inv()).simplify()"
   ]
  },
  {
   "cell_type": "code",
   "execution_count": null,
   "id": "24",
   "metadata": {},
   "outputs": [],
   "source": [
    "(F2_parallel.inv() @ TA.inv()).simplify()\n"
   ]
  },
  {
   "cell_type": "code",
   "execution_count": null,
   "id": "25",
   "metadata": {},
   "outputs": [],
   "source": [
    "(F2_antiparallel.inv() @ TA.inv()).simplify()"
   ]
  },
  {
   "cell_type": "code",
   "execution_count": null,
   "id": "26",
   "metadata": {},
   "outputs": [],
   "source": [
    "(((F2_parallel.inv() @ TA.inv()) @ I) * (Ta[0] ** 2 - Ta[1] ** 2)).simplify()"
   ]
  },
  {
   "cell_type": "code",
   "execution_count": null,
   "id": "27",
   "metadata": {},
   "outputs": [],
   "source": [
    "(((TP.inv() @ F1_parallel.inv()) @ I) * (Tp[0] ** 2 - Tp[1] ** 2)).simplify()"
   ]
  },
  {
   "cell_type": "code",
   "execution_count": null,
   "id": "28",
   "metadata": {},
   "outputs": [],
   "source": [
    "(TP.inv() @ F1_parallel.inv() @ F2_parallel.inv() @ TA.inv()).simplify()"
   ]
  },
  {
   "cell_type": "code",
   "execution_count": null,
   "id": "29",
   "metadata": {},
   "outputs": [],
   "source": [
    "(TP.inv() @ F1_antiparallel.inv() @ F2_antiparallel.inv() @ TA.inv()).simplify()"
   ]
  },
  {
   "cell_type": "markdown",
   "id": "30",
   "metadata": {},
   "source": [
    "Now we will test if the flipper matrices together with the polarizer/analyzer matrices yield physically useful results for the examples:<br> \n",
    "(i) collinear magnetic moments & no chiral terms, i.e., P=F=1 & S+-=S-+ <br>\n",
    "(ii) chiral magnetic moments with S++=S--=0 & S+- \\neq S-+"
   ]
  },
  {
   "cell_type": "code",
   "execution_count": null,
   "id": "31",
   "metadata": {},
   "outputs": [],
   "source": [
    "S_test_i = sp.symbols('Spp, Spm, Smp, Smm', positive=True)\n",
    "S_test_i = sp.ImmutableDenseMatrix([[0], [S_test_i[1]], [S_test_i[2]], [0]])\n",
    "S_test_i"
   ]
  },
  {
   "cell_type": "code",
   "execution_count": null,
   "id": "32",
   "metadata": {},
   "outputs": [],
   "source": [
    "((TA @ F2_parallel @ F1_parallel @ TP) @ S_test_i).simplify()"
   ]
  },
  {
   "cell_type": "code",
   "execution_count": null,
   "id": "33",
   "metadata": {},
   "outputs": [],
   "source": [
    "S_test_ii = sp.symbols('Spp, Spm, Smp, Smm', positive=True)\n",
    "S_test_ii = sp.ImmutableDenseMatrix(\n",
    "    [[S_test_ii[0]], [S_test_ii[1]], [S_test_ii[1]], [S_test_ii[3]]]\n",
    ")\n",
    "S_test_ii"
   ]
  },
  {
   "cell_type": "code",
   "execution_count": null,
   "id": "34",
   "metadata": {},
   "outputs": [],
   "source": [
    "((TA @ F2_antiparallel) @ S_test_ii).simplify()"
   ]
  },
  {
   "cell_type": "markdown",
   "id": "35",
   "metadata": {},
   "source": [
    "Now trying the same with the to 2-dim converted matrices"
   ]
  },
  {
   "cell_type": "code",
   "execution_count": null,
   "id": "36",
   "metadata": {},
   "outputs": [],
   "source": [
    "S_test_iii = [[0], [4], [5], [0]]\n",
    "f1_test = 0.9\n",
    "f2_test = 0.9\n",
    "F1_parallel_test = np.array(\n",
    "    [\n",
    "        [1, 0, 0, 0],\n",
    "        [0, 1, 0, 0],\n",
    "        [1 - 0.9, 0, 0.9, 0],\n",
    "        [0, 1 - 0.9, 0, 0.9],\n",
    "    ]\n",
    ")\n",
    "F2_parallel_test = np.array(\n",
    "    [\n",
    "        [1, 0, 0, 0],\n",
    "        [1 - 0.9, 0.9, 0, 0],\n",
    "        [0, 0, 1, 0],\n",
    "        [0, 0, 1 - 0.9, 0.9],\n",
    "    ]\n",
    ")\n",
    "Tp_test = np.array([0.8, 0.2])\n",
    "TP_test = np.array(\n",
    "    [\n",
    "        [Tp_test[0], 0, Tp_test[1], 0],\n",
    "        [0, Tp_test[0], 0, Tp_test[1]],\n",
    "        [Tp_test[1], 0, Tp_test[0], 0],\n",
    "        [0, Tp_test[1], 0, Tp_test[0]],\n",
    "    ]\n",
    ")\n",
    "Ta_test = np.array([0.8, 0.2])\n",
    "TA_test = np.array(\n",
    "    [\n",
    "        [Ta_test[0], Ta_test[1], 0, 0],\n",
    "        [Ta_test[1], Ta_test[0], 0, 0],\n",
    "        [0, 0, Ta_test[0], Ta_test[1]],\n",
    "        [0, 0, Ta_test[1], Ta_test[0]],\n",
    "    ]\n",
    ")\n",
    "TA_test"
   ]
  },
  {
   "cell_type": "code",
   "execution_count": null,
   "id": "37",
   "metadata": {},
   "outputs": [],
   "source": [
    "(TP_test @ TA_test) @ S_test_iii"
   ]
  },
  {
   "cell_type": "code",
   "execution_count": null,
   "id": "38",
   "metadata": {},
   "outputs": [],
   "source": [
    "ground_truth = np.array([0, 4, 5, 0])\n",
    "analyzer = np.array([[0.8, 0.2], [0.2, 0.8]])\n",
    "polarizer = np.array([[0.8, 0.2], [0.2, 0.8]])\n",
    "identity = np.array([[1.0, 0.0], [0.0, 1.0]])\n",
    "intensity = np.kron(identity, analyzer) @ np.kron(polarizer, identity) @ ground_truth\n",
    "intensity\n"
   ]
  },
  {
   "cell_type": "markdown",
   "id": "39",
   "metadata": {},
   "source": [
    "## Latex formatting\n",
    "(For convenience)"
   ]
  },
  {
   "cell_type": "code",
   "execution_count": null,
   "id": "40",
   "metadata": {},
   "outputs": [],
   "source": [
    "# Latex formatted for copying to other docs\n",
    "for s in (\n",
    "    r'\\hat{T}_P^{-1} = ' + sp.latex(TP.inv().simplify()),\n",
    "    r'\\hat{T}_A^{-1} = ' + sp.latex(TA.inv().simplify()),\n",
    "    r'\\hat{F}_1^{-1} = ' + sp.latex(F1_parallel.inv().simplify()),\n",
    "    r'\\hat{F}_2^{-1} = ' + sp.latex(F2_parallel.inv().simplify()),\n",
    "):\n",
    "    print(s, end='\\n\\n')"
   ]
  }
 ],
 "metadata": {
  "kernelspec": {
   "display_name": "Python 3 (ipykernel)",
   "language": "python",
   "name": "python3"
  },
  "language_info": {
   "codemirror_mode": {
    "name": "ipython",
    "version": 3
   },
   "file_extension": ".py",
   "mimetype": "text/x-python",
   "name": "python",
   "nbconvert_exporter": "python",
   "pygments_lexer": "ipython3",
   "version": "3.10.14"
  }
 },
 "nbformat": 4,
 "nbformat_minor": 5
}
